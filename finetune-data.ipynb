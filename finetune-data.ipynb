{
 "cells": [
  {
   "cell_type": "code",
   "execution_count": 1,
   "metadata": {},
   "outputs": [],
   "source": [
    "import os\n",
    "import json\n",
    "from glob import glob\n",
    "import numpy as np\n",
    "from transformers import GPT2Tokenizer"
   ]
  },
  {
   "cell_type": "code",
   "execution_count": 2,
   "metadata": {},
   "outputs": [],
   "source": [
    "tokenizer = GPT2Tokenizer.from_pretrained(\"gpt2\")\n",
    "eos = tokenizer.eos_token"
   ]
  },
  {
   "cell_type": "code",
   "execution_count": 3,
   "metadata": {},
   "outputs": [],
   "source": [
    "inputpath = 'data/user/suncoasthost/*.json'"
   ]
  },
  {
   "cell_type": "code",
   "execution_count": 4,
   "metadata": {},
   "outputs": [],
   "source": [
    "fnames = glob(inputpath)"
   ]
  },
  {
   "cell_type": "code",
   "execution_count": 5,
   "metadata": {},
   "outputs": [],
   "source": [
    "valid_prop = .1\n",
    "shuffled_indices = list(np.random.choice(range(len(fnames)), len(fnames), replace=False))\n",
    "valid_size = max(1, int(valid_prop*len(fnames)))"
   ]
  },
  {
   "cell_type": "code",
   "execution_count": 6,
   "metadata": {},
   "outputs": [],
   "source": [
    "fnames_shuffled = [fnames[i] for i in shuffled_indices]"
   ]
  },
  {
   "cell_type": "code",
   "execution_count": 7,
   "metadata": {},
   "outputs": [],
   "source": [
    "fnames_test = fnames_shuffled[:valid_size]\n",
    "fnames_valid = fnames_shuffled[valid_size:2*valid_size]\n",
    "fnames_train = fnames_shuffled[2*valid_size:]"
   ]
  },
  {
   "cell_type": "code",
   "execution_count": 8,
   "metadata": {},
   "outputs": [],
   "source": [
    "def get_qa_string(comment):\n",
    "    '''format comment as question and answer'''\n",
    "    context = 'In subreddit: {subname}\\nTitle: {title}\\n{body}'.format(\n",
    "        subname = comment['submission']['subreddit'],\n",
    "        title = comment['submission']['title'],\n",
    "        body = comment['submission']['selftext'],\n",
    "    )\n",
    "    question = 'What do you think?'\n",
    "    if comment['parent_comment'] is not None:\n",
    "        question = comment['parent_comment']['body']\n",
    "    return '{context}\\n\\nQ: {q}\\nA: {a}'.format(\n",
    "        context = context,\n",
    "        q = question,\n",
    "        a = comment['comment']['body'],\n",
    "    )"
   ]
  },
  {
   "cell_type": "code",
   "execution_count": 9,
   "metadata": {},
   "outputs": [],
   "source": [
    "outputpath = 'finetune/data/suncoasthost'\n",
    "os.makedirs(outputpath, exist_ok=True)"
   ]
  },
  {
   "cell_type": "code",
   "execution_count": 10,
   "metadata": {},
   "outputs": [],
   "source": [
    "def write_to_text(fnames, outputfname, verbose=1):\n",
    "    # clear destination\n",
    "    with open(outputfname, 'w+') as f:\n",
    "        f.write('')\n",
    "    \n",
    "    total = len(fnames)\n",
    "    i = 0\n",
    "    for fname in fnames:\n",
    "        if i % 100 == 0 and verbose > 0:\n",
    "            print ('[{}/{}]'.format(i, total))\n",
    "        i += 1\n",
    "        with open(fname) as f:\n",
    "            comment = json.load(f)\n",
    "        with open(outputfname, 'a+') as f:\n",
    "            f.write('{body}\\n{eos}\\n'.format(\n",
    "                body=get_qa_string(comment),\n",
    "                eos=eos\n",
    "            ))"
   ]
  },
  {
   "cell_type": "code",
   "execution_count": 11,
   "metadata": {},
   "outputs": [
    {
     "name": "stdout",
     "output_type": "stream",
     "text": [
      "\n",
      "test.txt\n",
      "[0/15]\n",
      "\n",
      "valid.txt\n",
      "[0/15]\n",
      "\n",
      "train.txt\n",
      "[0/129]\n",
      "[100/129]\n"
     ]
    }
   ],
   "source": [
    "print ('\\ntest.txt')\n",
    "write_to_text(fnames_test, os.path.join(outputpath, 'test.txt'))\n",
    "print ('\\nvalid.txt')\n",
    "write_to_text(fnames_valid, os.path.join(outputpath, 'valid.txt'))\n",
    "print ('\\ntrain.txt')\n",
    "write_to_text(fnames_train, os.path.join(outputpath, 'train.txt'))"
   ]
  }
 ],
 "metadata": {
  "kernelspec": {
   "display_name": "Python 3",
   "language": "python",
   "name": "python3"
  },
  "language_info": {
   "codemirror_mode": {
    "name": "ipython",
    "version": 3
   },
   "file_extension": ".py",
   "mimetype": "text/x-python",
   "name": "python",
   "nbconvert_exporter": "python",
   "pygments_lexer": "ipython3",
   "version": "3.7.5"
  }
 },
 "nbformat": 4,
 "nbformat_minor": 4
}
