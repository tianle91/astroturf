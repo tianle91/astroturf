{
 "cells": [
  {
   "cell_type": "markdown",
   "metadata": {},
   "source": [
    "https://huggingface.co/transformers/quickstart.html\n",
    "\n",
    "https://github.com/huggingface/transformers/tree/master/examples/language-modeling\n",
    "\n",
    "https://github.com/huggingface/transformers/blob/master/examples/language-modeling/run_language_modeling.py\n",
    "\n",
    "https://github.com/huggingface/transformers/blob/master/src/transformers/training_args.py"
   ]
  },
  {
   "cell_type": "code",
   "execution_count": 1,
   "metadata": {},
   "outputs": [],
   "source": [
    "import os\n",
    "import json\n",
    "from glob import glob\n",
    "import numpy as np\n",
    "from transformers import (\n",
    "    GPT2Tokenizer, \n",
    "    GPT2LMHeadModel, \n",
    "    TextDataset, \n",
    "    PreTrainedTokenizer, \n",
    "    DataCollatorForLanguageModeling,\n",
    "    TrainingArguments, \n",
    "    Trainer\n",
    ")"
   ]
  },
  {
   "cell_type": "code",
   "execution_count": 2,
   "metadata": {},
   "outputs": [],
   "source": [
    "gpt2pretrainedstr = \"gpt2\"\n",
    "tokenizer = GPT2Tokenizer.from_pretrained(gpt2pretrainedstr)\n",
    "model = GPT2LMHeadModel.from_pretrained(gpt2pretrainedstr)\n",
    "eos = tokenizer.eos_token"
   ]
  },
  {
   "cell_type": "markdown",
   "metadata": {},
   "source": [
    "# Model Data"
   ]
  },
  {
   "cell_type": "code",
   "execution_count": 3,
   "metadata": {},
   "outputs": [],
   "source": [
    "inputpath = 'data/user/suncoasthost/*.json'\n",
    "\n",
    "fnames = glob(inputpath)\n",
    "valid_prop = .1\n",
    "shuffled_indices = list(np.random.choice(range(len(fnames)), len(fnames), replace=False))\n",
    "valid_size = max(1, int(valid_prop*len(fnames)))\n",
    "\n",
    "fnames_shuffled = [fnames[i] for i in shuffled_indices]\n",
    "fnames_test = fnames_shuffled[:valid_size]\n",
    "fnames_valid = fnames_shuffled[valid_size:2*valid_size]\n",
    "fnames_train = fnames_shuffled[2*valid_size:]"
   ]
  },
  {
   "cell_type": "code",
   "execution_count": 4,
   "metadata": {},
   "outputs": [],
   "source": [
    "def get_qa_string(comment):\n",
    "    '''format comment as question and answer'''\n",
    "    context = 'In subreddit: {subname}\\nTitle: {title}\\n{body}'.format(\n",
    "        subname = comment['submission']['subreddit'],\n",
    "        title = comment['submission']['title'],\n",
    "        body = comment['submission']['selftext'],\n",
    "    )\n",
    "    question = 'What do you think?'\n",
    "    if comment['parent_comment'] is not None:\n",
    "        question = comment['parent_comment']['body']\n",
    "    return '{context}\\n\\nQ: {q}\\nA: {a}'.format(\n",
    "        context = context,\n",
    "        q = question,\n",
    "        a = comment['comment']['body'],\n",
    "    )\n",
    "\n",
    "def write_to_text(fnames, outputfname, verbose=1):\n",
    "    # clear destination\n",
    "    with open(outputfname, 'w+') as f:\n",
    "        f.write('')\n",
    "    \n",
    "    total = len(fnames)\n",
    "    i = 0\n",
    "    for fname in fnames:\n",
    "        if i % 100 == 0 and verbose > 0:\n",
    "            print ('[{}/{}]'.format(i, total))\n",
    "        i += 1\n",
    "        with open(fname) as f:\n",
    "            comment = json.load(f)\n",
    "        with open(outputfname, 'a+') as f:\n",
    "            f.write('{body}\\n{eos}\\n'.format(\n",
    "                body=get_qa_string(comment),\n",
    "                eos=eos\n",
    "            ))"
   ]
  },
  {
   "cell_type": "code",
   "execution_count": 5,
   "metadata": {},
   "outputs": [],
   "source": [
    "modeldatapath = 'finetune/suncoasthost/data/'\n",
    "os.makedirs(modeldatapath, exist_ok=True)"
   ]
  },
  {
   "cell_type": "code",
   "execution_count": 6,
   "metadata": {},
   "outputs": [],
   "source": [
    "file_path_train = os.path.join(modeldatapath, 'train.txt')\n",
    "file_path_valid = os.path.join(modeldatapath, 'valid.txt')\n",
    "file_path_test = os.path.join(modeldatapath, 'test.txt')"
   ]
  },
  {
   "cell_type": "code",
   "execution_count": 7,
   "metadata": {},
   "outputs": [
    {
     "name": "stdout",
     "output_type": "stream",
     "text": [
      "[0/129]\n",
      "[100/129]\n",
      "[0/15]\n",
      "[0/15]\n"
     ]
    }
   ],
   "source": [
    "write_to_text(fnames_train, file_path_train)\n",
    "write_to_text(fnames_valid, file_path_valid)\n",
    "write_to_text(fnames_test, file_path_test)"
   ]
  },
  {
   "cell_type": "markdown",
   "metadata": {},
   "source": [
    "# Model Training"
   ]
  },
  {
   "cell_type": "code",
   "execution_count": 8,
   "metadata": {},
   "outputs": [
    {
     "data": {
      "text/plain": [
       "1024"
      ]
     },
     "execution_count": 8,
     "metadata": {},
     "output_type": "execute_result"
    }
   ],
   "source": [
    "tokenizer.max_len"
   ]
  },
  {
   "cell_type": "code",
   "execution_count": 9,
   "metadata": {},
   "outputs": [],
   "source": [
    "def get_dataset(file_path, tokenizer: PreTrainedTokenizer):\n",
    "    return TextDataset(\n",
    "        tokenizer=tokenizer, \n",
    "        file_path=file_path, \n",
    "        #block_size=tokenizer.max_len, \n",
    "        block_size=128,\n",
    "        overwrite_cache=True,\n",
    "    )"
   ]
  },
  {
   "cell_type": "code",
   "execution_count": 10,
   "metadata": {},
   "outputs": [],
   "source": [
    "train_dataset = get_dataset(file_path_train, tokenizer=tokenizer)\n",
    "valid_dataset = get_dataset(file_path_valid, tokenizer=tokenizer)\n",
    "test_dataset = get_dataset(file_path_test, tokenizer=tokenizer)"
   ]
  },
  {
   "cell_type": "code",
   "execution_count": 11,
   "metadata": {},
   "outputs": [],
   "source": [
    "data_collator = DataCollatorForLanguageModeling(tokenizer=tokenizer, mlm=False)"
   ]
  },
  {
   "cell_type": "code",
   "execution_count": 12,
   "metadata": {},
   "outputs": [],
   "source": [
    "modeloutputpath = 'finetune/suncoasthost/model/'\n",
    "\n",
    "training_args = TrainingArguments(\n",
    "    output_dir=modeloutputpath,\n",
    "    do_train=True,\n",
    "    do_eval=True,\n",
    ")"
   ]
  },
  {
   "cell_type": "code",
   "execution_count": 13,
   "metadata": {},
   "outputs": [],
   "source": [
    "trainer = Trainer(\n",
    "    model=model,\n",
    "    args=training_args,\n",
    "    data_collator=data_collator,\n",
    "    train_dataset=train_dataset,\n",
    "    eval_dataset=test_dataset,\n",
    "    prediction_loss_only=True,\n",
    ")"
   ]
  },
  {
   "cell_type": "code",
   "execution_count": 14,
   "metadata": {},
   "outputs": [
    {
     "data": {
      "application/vnd.jupyter.widget-view+json": {
       "model_id": "6102b10066754e72adf484891f548a56",
       "version_major": 2,
       "version_minor": 0
      },
      "text/plain": [
       "HBox(children=(FloatProgress(value=0.0, description='Epoch', max=3.0, style=ProgressStyle(description_width='i…"
      ]
     },
     "metadata": {},
     "output_type": "display_data"
    },
    {
     "data": {
      "application/vnd.jupyter.widget-view+json": {
       "model_id": "e09f3a78e3bf4286857fabf2c2520d39",
       "version_major": 2,
       "version_minor": 0
      },
      "text/plain": [
       "HBox(children=(FloatProgress(value=0.0, description='Iteration', max=44.0, style=ProgressStyle(description_wid…"
      ]
     },
     "metadata": {},
     "output_type": "display_data"
    },
    {
     "name": "stdout",
     "output_type": "stream",
     "text": [
      "\n"
     ]
    },
    {
     "data": {
      "application/vnd.jupyter.widget-view+json": {
       "model_id": "a5e8965440f74cb6945c9dd18e4fe60c",
       "version_major": 2,
       "version_minor": 0
      },
      "text/plain": [
       "HBox(children=(FloatProgress(value=0.0, description='Iteration', max=44.0, style=ProgressStyle(description_wid…"
      ]
     },
     "metadata": {},
     "output_type": "display_data"
    },
    {
     "name": "stdout",
     "output_type": "stream",
     "text": [
      "\n"
     ]
    },
    {
     "data": {
      "application/vnd.jupyter.widget-view+json": {
       "model_id": "1fbc03777ab2463a85509f2595f123cc",
       "version_major": 2,
       "version_minor": 0
      },
      "text/plain": [
       "HBox(children=(FloatProgress(value=0.0, description='Iteration', max=44.0, style=ProgressStyle(description_wid…"
      ]
     },
     "metadata": {},
     "output_type": "display_data"
    },
    {
     "name": "stdout",
     "output_type": "stream",
     "text": [
      "\n",
      "\n"
     ]
    }
   ],
   "source": [
    "trainer.train()\n",
    "trainer.save_model()"
   ]
  },
  {
   "cell_type": "code",
   "execution_count": 15,
   "metadata": {},
   "outputs": [
    {
     "data": {
      "application/vnd.jupyter.widget-view+json": {
       "model_id": "df1bf2bdbbb048e08f0c5de00026ef53",
       "version_major": 2,
       "version_minor": 0
      },
      "text/plain": [
       "HBox(children=(FloatProgress(value=0.0, description='Evaluation', max=5.0, style=ProgressStyle(description_wid…"
      ]
     },
     "metadata": {},
     "output_type": "display_data"
    },
    {
     "name": "stdout",
     "output_type": "stream",
     "text": [
      "\n",
      "{\"eval_loss\": 2.838185119628906, \"epoch\": 3.0, \"step\": 132}\n"
     ]
    }
   ],
   "source": [
    "trainer.evaluate()"
   ]
  },
  {
   "cell_type": "markdown",
   "metadata": {},
   "source": [
    "# Model Prediction"
   ]
  },
  {
   "cell_type": "code",
   "execution_count": 17,
   "metadata": {},
   "outputs": [],
   "source": [
    "from transformers import pipeline"
   ]
  },
  {
   "cell_type": "code",
   "execution_count": 18,
   "metadata": {},
   "outputs": [],
   "source": [
    "predictor = pipeline('text-generation', model=modeloutputpath, tokenizer=tokenizer)"
   ]
  },
  {
   "cell_type": "code",
   "execution_count": 20,
   "metadata": {},
   "outputs": [
    {
     "name": "stderr",
     "output_type": "stream",
     "text": [
      "Setting `pad_token_id` to 50256 (first `eos_token_id`) to generate sequence\n"
     ]
    },
    {
     "data": {
      "text/plain": [
       "'In subreddit: node\\nTitle: Do you like Trump?\\n{body}\\n\\nQ: What do you think?\\nA:  Have you been listening on Google or any other similar search engine and just want to help the audience learn how to'"
      ]
     },
     "execution_count": 20,
     "metadata": {},
     "output_type": "execute_result"
    }
   ],
   "source": [
    "predictor('In subreddit: node\\nTitle: Do you like Trump?\\n{body}\\n\\nQ: What do you think?\\nA: ')[0]['generated_text']"
   ]
  }
 ],
 "metadata": {
  "kernelspec": {
   "display_name": "Python 3",
   "language": "python",
   "name": "python3"
  },
  "language_info": {
   "codemirror_mode": {
    "name": "ipython",
    "version": 3
   },
   "file_extension": ".py",
   "mimetype": "text/x-python",
   "name": "python",
   "nbconvert_exporter": "python",
   "pygments_lexer": "ipython3",
   "version": "3.7.5"
  }
 },
 "nbformat": 4,
 "nbformat_minor": 4
}
