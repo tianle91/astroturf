{
 "cells": [
  {
   "cell_type": "markdown",
   "metadata": {},
   "source": [
    "https://github.com/huggingface/transformers/blob/0ae96ff8a7e2d371242452d81bee85da8df202f5/examples/text-generation/run_generation.py"
   ]
  },
  {
   "cell_type": "markdown",
   "metadata": {},
   "source": [
    "# get a bunch of user comments"
   ]
  },
  {
   "cell_type": "code",
   "execution_count": 1,
   "metadata": {},
   "outputs": [],
   "source": [
    "# check praw.ini in root\n",
    "import praw"
   ]
  },
  {
   "cell_type": "code",
   "execution_count": 2,
   "metadata": {},
   "outputs": [],
   "source": [
    "reddit = praw.Reddit()"
   ]
  },
  {
   "cell_type": "code",
   "execution_count": 3,
   "metadata": {},
   "outputs": [],
   "source": [
    "user_name = 'suncoasthost'"
   ]
  },
  {
   "cell_type": "code",
   "execution_count": 4,
   "metadata": {},
   "outputs": [],
   "source": [
    "user = reddit.redditor(user_name)"
   ]
  },
  {
   "cell_type": "code",
   "execution_count": 5,
   "metadata": {},
   "outputs": [],
   "source": [
    "def get_context(comment, reddit):\n",
    "    submission = reddit.submission(id=comment.link_id.replace('t3_', ''))\n",
    "    parent_comment = None\n",
    "    if not comment.parent_id == comment.link_id:\n",
    "        # not a top level comment, try to retrieve parent comment\n",
    "        parent_comment = reddit.comment(id=comment.parent_id.replace('t1_', ''))\n",
    "    return parent_comment, submission\n",
    "\n",
    "def get_all_context(comment, reddit):\n",
    "    parent_comment, submission = get_context(comment, reddit)\n",
    "    if parent_comment is None:\n",
    "        # base case: is a top level comment\n",
    "        parent_comments = []\n",
    "        return parent_comments, submission\n",
    "    else:\n",
    "        parent_comments, submission = get_all_context(parent_comment, reddit)\n",
    "        return (parent_comments + [parent_comment], submission)"
   ]
  },
  {
   "cell_type": "code",
   "execution_count": 6,
   "metadata": {},
   "outputs": [],
   "source": [
    "import os\n",
    "import json\n",
    "import pickle"
   ]
  },
  {
   "cell_type": "code",
   "execution_count": 7,
   "metadata": {},
   "outputs": [],
   "source": [
    "from datetime import datetime"
   ]
  },
  {
   "cell_type": "code",
   "execution_count": 15,
   "metadata": {},
   "outputs": [],
   "source": [
    "def format_comment_as_json(comment):\n",
    "    return {\n",
    "        'id': comment.id, \n",
    "        'author': comment.author.name, \n",
    "        'body': comment.body, \n",
    "        'created_utc': comment.created_utc,\n",
    "        'permalink': comment.permalink,\n",
    "    }\n",
    "\n",
    "def format_submission_as_json(submission):\n",
    "    return {\n",
    "        'id': submission.id,\n",
    "        'subreddit': submission.subreddit.display_name,\n",
    "        'title': submission.title,\n",
    "        'selftext': submission.selftext,\n",
    "        'permalink': submission.permalink,\n",
    "        \n",
    "    }"
   ]
  },
  {
   "cell_type": "code",
   "execution_count": 19,
   "metadata": {},
   "outputs": [
    {
     "name": "stdout",
     "output_type": "stream",
     "text": [
      "[0/10] id: fw9xf8b, body: depends on your hosting situation. I am hosted on \n",
      "[1/10] id: fw9q6m5, body: it is but it scales up easy. Major organizations u\n",
      "[2/10] id: fw6ewe6, body: Since you are using Angular for your front end (cl\n",
      "[3/10] id: fvwmkq9, body: True, I only mentioned it because OP said they wer\n",
      "[4/10] id: fvw3s2e, body: Wordpress itself offers pretty affordable hosting.\n",
      "[5/10] id: fvuueav, body: check to see if your server instance is required a\n",
      "[6/10] id: fvtdytg, body: line 8 is improper syntax.   set the “port” proper\n",
      "[7/10] id: fvhkuri, body: It might be worth taking a hard look at yourself a\n",
      "[8/10] id: fvh3dra, body: I recommend HTML5 Blank.\n",
      "[9/10] id: fve1jrp, body: You need to narrow down the requirements of your A\n"
     ]
    }
   ],
   "source": [
    "outpath = 'data/user/{}'.format(user_name)\n",
    "os.makedirs(outpath, exist_ok=True)\n",
    "\n",
    "manifestpath = os.path.join('data/user/{}.csv'.format(user_name))\n",
    "if not os.path.isfile(manifestpath):\n",
    "    with open(manifestpath, 'w+') as f:\n",
    "        f.write('comment_id, created_utcnow_isoformat\\n')\n",
    "\n",
    "# args for user.comments.new()\n",
    "# https://praw.readthedocs.io/en/latest/code_overview/other/listinggenerator.html#praw.models.ListingGenerator\n",
    "# limit – default 100, max 1000\n",
    "limit = 10\n",
    "i = 0\n",
    "for comment in user.comments.new(limit=limit):\n",
    "    print ('[{}/{}] id: {}, body: {}'.format(\n",
    "        i, limit, comment.id, comment.body.replace('\\n', ' ').replace('\\t', ' ')[:50]\n",
    "    ))\n",
    "    i += 1\n",
    "    parent_comment, submission = get_context(comment, reddit)\n",
    "    package = {\n",
    "        'comment': format_comment_as_json(comment),\n",
    "        'parent_comment': format_comment_as_json(parent_comment) if parent_comment is not None else None,\n",
    "        'submission': format_submission_as_json(submission)\n",
    "    }\n",
    "    with open(manifestpath, 'a+') as f:\n",
    "        f.write('{}, {}\\n'.format(comment.id, datetime.utcnow().isoformat()))\n",
    "    with open(os.path.join(outpath, '{}.json'.format(comment.id)), 'w+') as f:\n",
    "        json.dump(package, f, indent=4)"
   ]
  }
 ],
 "metadata": {
  "kernelspec": {
   "display_name": "Python 3",
   "language": "python",
   "name": "python3"
  },
  "language_info": {
   "codemirror_mode": {
    "name": "ipython",
    "version": 3
   },
   "file_extension": ".py",
   "mimetype": "text/x-python",
   "name": "python",
   "nbconvert_exporter": "python",
   "pygments_lexer": "ipython3",
   "version": "3.7.5"
  }
 },
 "nbformat": 4,
 "nbformat_minor": 4
}
