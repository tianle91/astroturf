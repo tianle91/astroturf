{
 "cells": [
  {
   "cell_type": "code",
   "execution_count": 1,
   "metadata": {},
   "outputs": [],
   "source": [
    "import praw\n",
    "from praw.exceptions import InvalidURL\n",
    "from praw.models import Submission, Comment\n",
    "\n",
    "from data_user_comments import get_context, format_comment_as_json, format_submission_as_json\n",
    "from finetune import get_qa_string\n",
    "from infertools import get_text_generation_pipeline"
   ]
  },
  {
   "cell_type": "code",
   "execution_count": 2,
   "metadata": {},
   "outputs": [],
   "source": [
    "def make_package_comment(comment):\n",
    "    _, submission = get_context(comment, reddit)\n",
    "    return {\n",
    "        'comment': None,\n",
    "        'parent_comment': format_comment_as_json(comment),\n",
    "        'submission': format_submission_as_json(submission)\n",
    "    }\n",
    "\n",
    "def make_package_submission(submission):\n",
    "    return {\n",
    "        'comment': None,\n",
    "        'parent_comment': None,\n",
    "        'submission': format_submission_as_json(submission)\n",
    "    }\n",
    "\n",
    "def make_package_url(url, reddit):\n",
    "    try:\n",
    "        refobj = reddit.comment(url=url)\n",
    "    except InvalidURL:\n",
    "        refobj = reddit.submission(url=url)\n",
    "\n",
    "    if isinstance(refobj, Submission):\n",
    "        return make_package_submission(refobj)\n",
    "    elif isinstance(refobj, Comment):\n",
    "        return make_package_comment(refobj)"
   ]
  },
  {
   "cell_type": "code",
   "execution_count": 3,
   "metadata": {},
   "outputs": [],
   "source": [
    "reddit = praw.Reddit()"
   ]
  },
  {
   "cell_type": "code",
   "execution_count": 4,
   "metadata": {},
   "outputs": [],
   "source": [
    "#url = 'https://www.reddit.com/r/Fedora/comments/g62avm/fedora_32_nvidia_drivers_install/' # submission\n",
    "url = 'https://www.reddit.com/r/apple/comments/ae5cm7/apple_hires_prominent_facebook_critic_for/edn5hmg/' # comment"
   ]
  },
  {
   "cell_type": "code",
   "execution_count": 5,
   "metadata": {},
   "outputs": [],
   "source": [
    "package = make_package_url(url, reddit)\n",
    "prompt = get_qa_string(package)"
   ]
  },
  {
   "cell_type": "code",
   "execution_count": 6,
   "metadata": {},
   "outputs": [],
   "source": [
    "txtgen = get_text_generation_pipeline('finetune/spez/model')"
   ]
  },
  {
   "cell_type": "code",
   "execution_count": 7,
   "metadata": {},
   "outputs": [
    {
     "name": "stderr",
     "output_type": "stream",
     "text": [
      "Setting `pad_token_id` to 50256 (first `eos_token_id`) to generate sequence\n"
     ]
    }
   ],
   "source": [
    "# https://huggingface.co/transformers/_modules/transformers/pipelines.html#TextGenerationPipeline\n",
    "# https://huggingface.co/transformers/_modules/transformers/modeling_utils.html#PreTrainedModel.generate\n",
    "responses = txtgen(prompt, num_return_sequences=1, max_length=1024)"
   ]
  },
  {
   "cell_type": "code",
   "execution_count": 8,
   "metadata": {},
   "outputs": [
    {
     "name": "stdout",
     "output_type": "stream",
     "text": [
      "In subreddit: apple\n",
      "Title: Apple Hires Prominent Facebook Critic for Internal-Facing Product Privacy Role\n",
      "\n",
      "\n",
      "Q: If that's what you want then too bad. Unless another company can do this you're stuck with Apple and paying Apple prices.\n",
      "A: \n"
     ]
    }
   ],
   "source": [
    "print (prompt)"
   ]
  },
  {
   "cell_type": "code",
   "execution_count": 10,
   "metadata": {},
   "outputs": [
    {
     "name": "stdout",
     "output_type": "stream",
     "text": [
      "A CEO and a CEO, all with a mission to improve the world and everyone standing up for their communities, are perfectly fine with this. But please, do not take me as someone who supports or outright opposes the company. I'm a little kid running through a long day, and it just made me riled up to see how the site looked when he took it off.\n"
     ]
    }
   ],
   "source": [
    "print (responses[0]['generated_text'].replace(prompt, '').strip().split('\\n')[0])"
   ]
  }
 ],
 "metadata": {
  "kernelspec": {
   "display_name": "Python 3",
   "language": "python",
   "name": "python3"
  },
  "language_info": {
   "codemirror_mode": {
    "name": "ipython",
    "version": 3
   },
   "file_extension": ".py",
   "mimetype": "text/x-python",
   "name": "python",
   "nbconvert_exporter": "python",
   "pygments_lexer": "ipython3",
   "version": "3.8.3"
  }
 },
 "nbformat": 4,
 "nbformat_minor": 4
}
