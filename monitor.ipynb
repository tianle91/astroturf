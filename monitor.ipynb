{
 "cells": [
  {
   "cell_type": "code",
   "execution_count": 1,
   "id": "a7f4d3ee",
   "metadata": {},
   "outputs": [],
   "source": [
    "import sqlite3\n",
    "import pandas as pd"
   ]
  },
  {
   "cell_type": "code",
   "execution_count": 2,
   "id": "b6ca3461",
   "metadata": {},
   "outputs": [],
   "source": [
    "requests_db = 'requests.db'\n",
    "table_name = 'comments'"
   ]
  },
  {
   "cell_type": "code",
   "execution_count": 3,
   "id": "67ba55bd",
   "metadata": {},
   "outputs": [],
   "source": [
    "with sqlite3.connect(requests_db) as conn:\n",
    "    df=pd.read_sql(f'''\n",
    "    SELECT *\n",
    "    FROM {table_name}\n",
    "    ''', conn)"
   ]
  },
  {
   "cell_type": "code",
   "execution_count": 4,
   "id": "22079d13",
   "metadata": {},
   "outputs": [
    {
     "data": {
      "text/html": [
       "<div>\n",
       "<style scoped>\n",
       "    .dataframe tbody tr th:only-of-type {\n",
       "        vertical-align: middle;\n",
       "    }\n",
       "\n",
       "    .dataframe tbody tr th {\n",
       "        vertical-align: top;\n",
       "    }\n",
       "\n",
       "    .dataframe thead th {\n",
       "        text-align: right;\n",
       "    }\n",
       "</style>\n",
       "<table border=\"1\" class=\"dataframe\">\n",
       "  <thead>\n",
       "    <tr style=\"text-align: right;\">\n",
       "      <th></th>\n",
       "      <th>id</th>\n",
       "      <th>author</th>\n",
       "      <th>body</th>\n",
       "      <th>permalink</th>\n",
       "      <th>target_username</th>\n",
       "      <th>target_permalink</th>\n",
       "      <th>done_scraping</th>\n",
       "      <th>done_training</th>\n",
       "      <th>done_responding</th>\n",
       "    </tr>\n",
       "  </thead>\n",
       "  <tbody>\n",
       "    <tr>\n",
       "      <th>0</th>\n",
       "      <td>h30wn32</td>\n",
       "      <td>HotStickyBalls</td>\n",
       "      <td>what would u/voliver016 say?</td>\n",
       "      <td>/r/AskReddit/comments/o7jeqe/you_die_and_get_s...</td>\n",
       "      <td>voliver016</td>\n",
       "      <td>/r/AskReddit/comments/o7jeqe/you_die_and_get_s...</td>\n",
       "      <td>1</td>\n",
       "      <td>1</td>\n",
       "      <td>1</td>\n",
       "    </tr>\n",
       "    <tr>\n",
       "      <th>1</th>\n",
       "      <td>h30yrsg</td>\n",
       "      <td>HotStickyBalls</td>\n",
       "      <td>what would u/poem_for_your_sprog say?</td>\n",
       "      <td>/r/AskReddit/comments/o7mdyf/males_of_reddit_w...</td>\n",
       "      <td>poem_for_your_sprog</td>\n",
       "      <td>/r/AskReddit/comments/o7mdyf/males_of_reddit_w...</td>\n",
       "      <td>1</td>\n",
       "      <td>1</td>\n",
       "      <td>1</td>\n",
       "    </tr>\n",
       "  </tbody>\n",
       "</table>\n",
       "</div>"
      ],
      "text/plain": [
       "        id          author                                   body  \\\n",
       "0  h30wn32  HotStickyBalls           what would u/voliver016 say?   \n",
       "1  h30yrsg  HotStickyBalls  what would u/poem_for_your_sprog say?   \n",
       "\n",
       "                                           permalink      target_username  \\\n",
       "0  /r/AskReddit/comments/o7jeqe/you_die_and_get_s...           voliver016   \n",
       "1  /r/AskReddit/comments/o7mdyf/males_of_reddit_w...  poem_for_your_sprog   \n",
       "\n",
       "                                    target_permalink  done_scraping  \\\n",
       "0  /r/AskReddit/comments/o7jeqe/you_die_and_get_s...              1   \n",
       "1  /r/AskReddit/comments/o7mdyf/males_of_reddit_w...              1   \n",
       "\n",
       "   done_training  done_responding  \n",
       "0              1                1  \n",
       "1              1                1  "
      ]
     },
     "execution_count": 4,
     "metadata": {},
     "output_type": "execute_result"
    }
   ],
   "source": [
    "df"
   ]
  },
  {
   "cell_type": "code",
   "execution_count": 5,
   "id": "3fde9bd7",
   "metadata": {},
   "outputs": [
    {
     "data": {
      "text/plain": [
       "id                  object\n",
       "author              object\n",
       "body                object\n",
       "permalink           object\n",
       "target_username     object\n",
       "target_permalink    object\n",
       "done_scraping        int64\n",
       "done_training        int64\n",
       "done_responding      int64\n",
       "dtype: object"
      ]
     },
     "execution_count": 5,
     "metadata": {},
     "output_type": "execute_result"
    }
   ],
   "source": [
    "df.dtypes"
   ]
  },
  {
   "cell_type": "raw",
   "id": "531244a1",
   "metadata": {},
   "source": [
    "with sqlite3.connect(requests_db) as conn:\n",
    "    conn.execute(f'''\n",
    "    UPDATE {table_name}\n",
    "    SET done_scraping = 0\n",
    "    WHERE target_username = 'voliver016'\n",
    "    ''')\n",
    "    conn.commit()"
   ]
  }
 ],
 "metadata": {
  "kernelspec": {
   "display_name": "Python 3",
   "language": "python",
   "name": "python3"
  },
  "language_info": {
   "codemirror_mode": {
    "name": "ipython",
    "version": 3
   },
   "file_extension": ".py",
   "mimetype": "text/x-python",
   "name": "python",
   "nbconvert_exporter": "python",
   "pygments_lexer": "ipython3",
   "version": "3.7.10"
  }
 },
 "nbformat": 4,
 "nbformat_minor": 5
}
