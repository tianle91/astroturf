{
 "cells": [
  {
   "cell_type": "markdown",
   "metadata": {},
   "source": [
    "Demo\n",
    "1. get comments by string matching (i.e. search term hits)\n",
    "2. filter comments to find entity matching\n",
    "3. print sentiments"
   ]
  },
  {
   "cell_type": "markdown",
   "metadata": {},
   "source": [
    "# pushshift gets reddit comments"
   ]
  },
  {
   "cell_type": "code",
   "execution_count": 1,
   "metadata": {},
   "outputs": [],
   "source": [
    "from webapitools import get_entity_mentions"
   ]
  },
  {
   "cell_type": "code",
   "execution_count": 2,
   "metadata": {},
   "outputs": [],
   "source": [
    "entity_name = \"uber\""
   ]
  },
  {
   "cell_type": "code",
   "execution_count": 3,
   "metadata": {},
   "outputs": [],
   "source": [
    "comments = get_entity_mentions(entity_name)"
   ]
  },
  {
   "cell_type": "markdown",
   "metadata": {},
   "source": [
    "# huggingface provides ner, sentiment"
   ]
  },
  {
   "cell_type": "code",
   "execution_count": 4,
   "metadata": {},
   "outputs": [
    {
     "data": {
      "application/vnd.jupyter.widget-view+json": {
       "model_id": "3bc2f3627d594b61a450b8d29837a23d",
       "version_major": 2,
       "version_minor": 0
      },
      "text/plain": [
       "HBox(children=(FloatProgress(value=0.0, description='Downloading', max=230.0, style=ProgressStyle(description_…"
      ]
     },
     "metadata": {},
     "output_type": "display_data"
    },
    {
     "name": "stdout",
     "output_type": "stream",
     "text": [
      "\n"
     ]
    },
    {
     "data": {
      "application/vnd.jupyter.widget-view+json": {
       "model_id": "f8eb4447f41c4093b4d40d6aa31e1b7b",
       "version_major": 2,
       "version_minor": 0
      },
      "text/plain": [
       "HBox(children=(FloatProgress(value=0.0, description='Downloading', max=230.0, style=ProgressStyle(description_…"
      ]
     },
     "metadata": {},
     "output_type": "display_data"
    },
    {
     "name": "stdout",
     "output_type": "stream",
     "text": [
      "\n"
     ]
    }
   ],
   "source": [
    "from nlptools import get_ner_tokens, get_ner, get_sentiment, is_hit"
   ]
  },
  {
   "cell_type": "code",
   "execution_count": 5,
   "metadata": {},
   "outputs": [
    {
     "name": "stderr",
     "output_type": "stream",
     "text": [
      "/Users/tianlechen/GitHub/astroturf/.venv/lib/python3.7/site-packages/transformers/tokenization_utils.py:831: FutureWarning: Parameter max_len is deprecated and will be removed in a future release. Use model_max_length instead.\n",
      "  category=FutureWarning,\n"
     ]
    }
   ],
   "source": [
    "entity_name_tokenized = get_ner_tokens(entity_name)"
   ]
  },
  {
   "cell_type": "code",
   "execution_count": 6,
   "metadata": {},
   "outputs": [
    {
     "data": {
      "text/plain": [
       "['u', '##ber']"
      ]
     },
     "execution_count": 6,
     "metadata": {},
     "output_type": "execute_result"
    }
   ],
   "source": [
    "entity_name_tokenized"
   ]
  },
  {
   "cell_type": "markdown",
   "metadata": {},
   "source": [
    "# run"
   ]
  },
  {
   "cell_type": "code",
   "execution_count": 7,
   "metadata": {
    "scrolled": false
   },
   "outputs": [
    {
     "name": "stdout",
     "output_type": "stream",
     "text": [
      "\n",
      "----------------------------------------------------------------------------------------------------\n",
      "comment:\n",
      "Uber - surge map\n",
      "ner:\n",
      "[{'word': 'U', 'score': 0.9551854729652405, 'entity': 'I-ORG', 'index': 1}, {'word': '##ber', 'score': 0.8508948087692261, 'entity': 'I-ORG', 'index': 2}]\n",
      "sentiment:\n",
      "[{'label': 'POSITIVE', 'score': 0.850429892539978}]\n",
      "----------------------------------------------------------------------------------------------------\n",
      "\n",
      "----------------------------------------------------------------------------------------------------\n",
      "comment:\n",
      "Yeah that’s just not true. I don’t even watch him anymore and can remember so many times of him getting mad a guy survived or some lag or server issue thing. Just because someone doesn’t make a whole video talking about issues a game has doesn’t make them a shill. \n",
      "\n",
      "He has a series of videos called Uber rage and I bet one of them, at least, had to do with server issues.\n",
      "ner:\n",
      "[{'word': 'U', 'score': 0.7624699473381042, 'entity': 'I-ORG', 'index': 71}, {'word': '##ber', 'score': 0.7717458605766296, 'entity': 'I-ORG', 'index': 72}]\n",
      "sentiment:\n",
      "[{'label': 'NEGATIVE', 'score': 0.9990465044975281}]\n",
      "----------------------------------------------------------------------------------------------------\n",
      "\n",
      "----------------------------------------------------------------------------------------------------\n",
      "comment:\n",
      "Ah, I fixed that in the edit, sorry for the confusion. This should now work fine.\n",
      "\n",
      "    // Uber Bind and M2-to-Uber script\n",
      "    bind \"MOUSE2\" +medicm2\n",
      "    alias +medicm2 \"dropitem;slot2;+attack2; say_team \"***UBER USED***\"; voicemenu 2 3\"\n",
      "    alias -medicm2 \"-attack2\"\n",
      "\n",
      "What was the problem you had? What was not showing up? I would recommend taking the 'unbind q' and 'unbind MOUSE5' out of auto exec. As long as  `exec reset_binds.cfg` is in the first line in every class config file you will be fine.\n",
      "ner:\n",
      "[{'word': 'U', 'score': 0.9461473822593689, 'entity': 'I-ORG', 'index': 23}, {'word': '##ber', 'score': 0.8001224398612976, 'entity': 'I-ORG', 'index': 24}, {'word': '##d', 'score': 0.6031528115272522, 'entity': 'I-ORG', 'index': 26}, {'word': 'U', 'score': 0.922895610332489, 'entity': 'I-ORG', 'index': 33}, {'word': '##ber', 'score': 0.9223015904426575, 'entity': 'I-ORG', 'index': 34}, {'word': 'U', 'score': 0.727798342704773, 'entity': 'I-ORG', 'index': 74}]\n",
      "sentiment:\n",
      "[{'label': 'NEGATIVE', 'score': 0.8005728721618652}]\n",
      "----------------------------------------------------------------------------------------------------\n",
      "\n",
      "----------------------------------------------------------------------------------------------------\n",
      "comment:\n",
      "Uber may have had a system wide issue and they paused everything until it was fixed.\n",
      "ner:\n",
      "[{'word': 'U', 'score': 0.9995394945144653, 'entity': 'I-ORG', 'index': 1}, {'word': '##ber', 'score': 0.9992190599441528, 'entity': 'I-ORG', 'index': 2}]\n",
      "sentiment:\n",
      "[{'label': 'NEGATIVE', 'score': 0.9989772439002991}]\n",
      "----------------------------------------------------------------------------------------------------\n",
      "\n",
      "----------------------------------------------------------------------------------------------------\n",
      "comment:\n",
      "it is but it scales up easy. Major organizations use it including Microsoft and Uber. As an api web server it is first class.\n",
      "ner:\n",
      "[{'word': 'Microsoft', 'score': 0.9995204210281372, 'entity': 'I-ORG', 'index': 14}, {'word': 'U', 'score': 0.9990889430046082, 'entity': 'I-ORG', 'index': 16}, {'word': '##ber', 'score': 0.9989218711853027, 'entity': 'I-ORG', 'index': 17}]\n",
      "sentiment:\n",
      "[{'label': 'POSITIVE', 'score': 0.9901163578033447}]\n",
      "----------------------------------------------------------------------------------------------------\n",
      "\n",
      "----------------------------------------------------------------------------------------------------\n",
      "comment:\n",
      "I transitioned from full-time Uber/Lyft to DoorDash/Grub Hub (also tried Go Puff and Post Mates, horrible pay) when Covid hit. When everything shut down the pay was amazing. Lots of generous tips. That has dwindled in the past few weeks, but as long as you can get scheduled blocks for the week and hit lunch and dinner, I consider it decent income.\n",
      "ner:\n",
      "[{'word': 'U', 'score': 0.9600662589073181, 'entity': 'I-ORG', 'index': 7}, {'word': '##ber', 'score': 0.9897755980491638, 'entity': 'I-ORG', 'index': 8}, {'word': 'L', 'score': 0.9979106187820435, 'entity': 'I-ORG', 'index': 10}, {'word': '##y', 'score': 0.8957812786102295, 'entity': 'I-ORG', 'index': 11}, {'word': '##ft', 'score': 0.9938780069351196, 'entity': 'I-ORG', 'index': 12}, {'word': 'Door', 'score': 0.8984700441360474, 'entity': 'I-ORG', 'index': 14}, {'word': '##D', 'score': 0.9760743379592896, 'entity': 'I-ORG', 'index': 15}, {'word': '##ash', 'score': 0.9761298298835754, 'entity': 'I-ORG', 'index': 16}, {'word': 'G', 'score': 0.9930078387260437, 'entity': 'I-ORG', 'index': 18}, {'word': '##ru', 'score': 0.6665916442871094, 'entity': 'I-ORG', 'index': 19}, {'word': '##b', 'score': 0.9411073923110962, 'entity': 'I-ORG', 'index': 20}, {'word': 'Hu', 'score': 0.9904463291168213, 'entity': 'I-ORG', 'index': 21}, {'word': '##b', 'score': 0.9853926301002502, 'entity': 'I-ORG', 'index': 22}, {'word': 'Go', 'score': 0.535161554813385, 'entity': 'I-MISC', 'index': 26}, {'word': 'P', 'score': 0.8301183581352234, 'entity': 'I-MISC', 'index': 27}, {'word': '##uff', 'score': 0.5058571100234985, 'entity': 'I-ORG', 'index': 28}, {'word': 'Post', 'score': 0.7696000933647156, 'entity': 'I-ORG', 'index': 30}, {'word': 'Mat', 'score': 0.41682976484298706, 'entity': 'I-ORG', 'index': 31}, {'word': '##es', 'score': 0.8107497096061707, 'entity': 'I-ORG', 'index': 32}, {'word': 'Co', 'score': 0.7769443392753601, 'entity': 'I-ORG', 'index': 38}, {'word': '##vid', 'score': 0.9659523367881775, 'entity': 'I-ORG', 'index': 39}]\n",
      "sentiment:\n",
      "[{'label': 'POSITIVE', 'score': 0.993110179901123}]\n",
      "----------------------------------------------------------------------------------------------------\n",
      "\n",
      "----------------------------------------------------------------------------------------------------\n",
      "comment:\n",
      "I did Lyft and Uber for a couple of years and ultimately it was too inconsistent and the competition became too great for it to be worth my time and the expenses of putting miles on my car and burning through gas. But otherwise I did really enjoy doing it. I love to drive and I love talking to new people but the money just isn’t there.\n",
      "ner:\n",
      "[{'word': 'L', 'score': 0.9991311430931091, 'entity': 'I-ORG', 'index': 3}, {'word': '##y', 'score': 0.94081050157547, 'entity': 'I-ORG', 'index': 4}, {'word': '##ft', 'score': 0.9975448250770569, 'entity': 'I-ORG', 'index': 5}, {'word': 'U', 'score': 0.9922429919242859, 'entity': 'I-ORG', 'index': 7}, {'word': '##ber', 'score': 0.997425377368927, 'entity': 'I-ORG', 'index': 8}]\n",
      "sentiment:\n",
      "[{'label': 'NEGATIVE', 'score': 0.9706138968467712}]\n",
      "----------------------------------------------------------------------------------------------------\n",
      "\n",
      "----------------------------------------------------------------------------------------------------\n",
      "comment:\n",
      "As I recall Manny had the incident making fun of his Uber driver’s accent on Snapchat (and I feel like there was something else I’m forgetting) but the driving sentiment behind his “cancelling” was the idea that he was a “social climber” which is very funny claim to make against any particular youtuber given that’s pretty much part and parcel with gaining a lot of social media fame lol\n",
      "ner:\n",
      "[{'word': 'Manny', 'score': 0.9977518320083618, 'entity': 'I-PER', 'index': 4}, {'word': 'U', 'score': 0.9937381148338318, 'entity': 'I-ORG', 'index': 12}, {'word': '##ber', 'score': 0.9949577450752258, 'entity': 'I-ORG', 'index': 13}, {'word': 'S', 'score': 0.9730684161186218, 'entity': 'I-MISC', 'index': 19}, {'word': '##nap', 'score': 0.8206669688224792, 'entity': 'I-MISC', 'index': 20}, {'word': '##cha', 'score': 0.7569169402122498, 'entity': 'I-MISC', 'index': 21}, {'word': '##t', 'score': 0.8579396605491638, 'entity': 'I-MISC', 'index': 22}]\n",
      "sentiment:\n",
      "[{'label': 'NEGATIVE', 'score': 0.8398644924163818}]\n",
      "----------------------------------------------------------------------------------------------------\n",
      "\n",
      "----------------------------------------------------------------------------------------------------\n",
      "comment:\n",
      "Often car insurance doesn't cover services like Uber because they believe it's considered commercial activity. Call your insurance agent and make sure you'll be covered in the event of an accident.\n",
      "ner:\n",
      "[{'word': 'U', 'score': 0.9823681712150574, 'entity': 'I-ORG', 'index': 10}, {'word': '##ber', 'score': 0.993742823600769, 'entity': 'I-ORG', 'index': 11}]\n",
      "sentiment:\n",
      "[{'label': 'NEGATIVE', 'score': 0.9868698716163635}]\n",
      "----------------------------------------------------------------------------------------------------\n"
     ]
    },
    {
     "name": "stdout",
     "output_type": "stream",
     "text": [
      "\n",
      "----------------------------------------------------------------------------------------------------\n",
      "comment:\n",
      "I thought Qs tweet said he recognized some of the tracks, he didn’t say Smile and Uber specifically\n",
      "ner:\n",
      "[{'word': 'Smile', 'score': 0.7385759353637695, 'entity': 'I-ORG', 'index': 20}, {'word': 'U', 'score': 0.9924335479736328, 'entity': 'I-ORG', 'index': 22}, {'word': '##ber', 'score': 0.993554413318634, 'entity': 'I-ORG', 'index': 23}]\n",
      "sentiment:\n",
      "[{'label': 'NEGATIVE', 'score': 0.9992209076881409}]\n",
      "----------------------------------------------------------------------------------------------------\n",
      "\n",
      "----------------------------------------------------------------------------------------------------\n",
      "comment:\n",
      "Mine posted as one credit today as well. Suddenly realized I've already used up all $250 on Uber Eats lol well the quarantine era...\n",
      "ner:\n",
      "[{'word': 'U', 'score': 0.9761852622032166, 'entity': 'I-ORG', 'index': 22}, {'word': '##ber', 'score': 0.9688917398452759, 'entity': 'I-ORG', 'index': 23}, {'word': 'Eat', 'score': 0.4832586944103241, 'entity': 'I-ORG', 'index': 24}, {'word': '##s', 'score': 0.5113444924354553, 'entity': 'I-ORG', 'index': 25}]\n",
      "sentiment:\n",
      "[{'label': 'NEGATIVE', 'score': 0.9973659515380859}]\n",
      "----------------------------------------------------------------------------------------------------\n",
      "\n",
      "----------------------------------------------------------------------------------------------------\n",
      "comment:\n",
      "Can confirm. Have severe depression, have eaten Uber stale nuggs. They do feel like rocks.\n",
      "ner:\n",
      "[{'word': 'U', 'score': 0.5093952417373657, 'entity': 'I-MISC', 'index': 10}, {'word': '##ber', 'score': 0.48861998319625854, 'entity': 'I-MISC', 'index': 11}]\n",
      "sentiment:\n",
      "[{'label': 'NEGATIVE', 'score': 0.9920895099639893}]\n",
      "----------------------------------------------------------------------------------------------------\n"
     ]
    }
   ],
   "source": [
    "linesep = '-'*100\n",
    "for comment in comments:\n",
    "    body = comment['body']\n",
    "    ner = get_ner(body)\n",
    "    sentiment = get_sentiment(body)\n",
    "    if is_hit(ner, entity_name_tokenized):\n",
    "        print (\n",
    "            '\\n'+linesep+\\\n",
    "            '\\ncomment:\\n{}'.format(body)+\\\n",
    "            '\\nner:\\n{}'.format(ner)+\\\n",
    "            '\\nsentiment:\\n{}'.format(sentiment)+\\\n",
    "            '\\n'+linesep\n",
    "        )"
   ]
  }
 ],
 "metadata": {
  "kernelspec": {
   "display_name": "Python 3",
   "language": "python",
   "name": "python3"
  },
  "language_info": {
   "codemirror_mode": {
    "name": "ipython",
    "version": 3
   },
   "file_extension": ".py",
   "mimetype": "text/x-python",
   "name": "python",
   "nbconvert_exporter": "python",
   "pygments_lexer": "ipython3",
   "version": "3.7.5"
  }
 },
 "nbformat": 4,
 "nbformat_minor": 4
}
