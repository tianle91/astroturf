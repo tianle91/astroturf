{
 "cells": [
  {
   "cell_type": "code",
   "execution_count": 1,
   "metadata": {},
   "outputs": [],
   "source": [
    "import os\n",
    "import json\n",
    "import pandas as pd"
   ]
  },
  {
   "cell_type": "code",
   "execution_count": 2,
   "metadata": {},
   "outputs": [
    {
     "data": {
      "application/vnd.jupyter.widget-view+json": {
       "model_id": "2b0624dde8b047f1a343f6f49318ea99",
       "version_major": 2,
       "version_minor": 0
      },
      "text/plain": [
       "HBox(children=(FloatProgress(value=0.0, description='Downloading', max=230.0, style=ProgressStyle(description_…"
      ]
     },
     "metadata": {},
     "output_type": "display_data"
    },
    {
     "name": "stdout",
     "output_type": "stream",
     "text": [
      "\n"
     ]
    }
   ],
   "source": [
    "from webapitools import get_entity_mentions\n",
    "from nlptools import get_ner_tokens, get_ner, get_sentiment, is_hit\n",
    "from datetime import datetime"
   ]
  },
  {
   "cell_type": "code",
   "execution_count": 3,
   "metadata": {},
   "outputs": [],
   "source": [
    "entity_name = \"uber\"\n",
    "size = 100"
   ]
  },
  {
   "cell_type": "code",
   "execution_count": 4,
   "metadata": {},
   "outputs": [],
   "source": [
    "def clean_string(s):\n",
    "    return ''.join([c if c.isalnum() else '_' for c in s])"
   ]
  },
  {
   "cell_type": "code",
   "execution_count": 5,
   "metadata": {},
   "outputs": [],
   "source": [
    "outpath = 'data/search/comment/q={}'.format(clean_string(entity_name))\n",
    "os.makedirs(outpath, exist_ok=True)\n",
    "\n",
    "manifestpath = os.path.join(outpath, 'manifest.csv')\n",
    "if not os.path.isfile(manifestpath):\n",
    "    with open(manifestpath, 'w+') as f:\n",
    "        f.write('query, created_utcnow_isoformat\\n')\n",
    "    manifestdf = None\n",
    "else:\n",
    "    manifestdf = pd.read_csv(manifestpath)"
   ]
  },
  {
   "cell_type": "code",
   "execution_count": 6,
   "metadata": {},
   "outputs": [
    {
     "name": "stderr",
     "output_type": "stream",
     "text": [
      "/Users/tianlechen/GitHub/astroturf/.venv/lib/python3.7/site-packages/transformers/tokenization_utils.py:831: FutureWarning: Parameter max_len is deprecated and will be removed in a future release. Use model_max_length instead.\n",
      "  category=FutureWarning,\n"
     ]
    }
   ],
   "source": [
    "comments = get_entity_mentions(entity_name, size=size)\n",
    "utciso = datetime.utcnow().isoformat()\n",
    "entity_name_tokenized = get_ner_tokens(entity_name)"
   ]
  },
  {
   "cell_type": "code",
   "execution_count": 7,
   "metadata": {},
   "outputs": [],
   "source": [
    "comments_hit = []\n",
    "for comment in comments:\n",
    "    ner = get_ner(comment['body'])\n",
    "    comment_id = comment['id']\n",
    "    if is_hit(ner, entity_name_tokenized):\n",
    "        comment.update({'sentiment': get_sentiment(comment['body'])})\n",
    "        comment_outfname = os.path.join(outpath, '{}.json'.format(comment_id))\n",
    "        if not os.path.isfile(comment_outfname):\n",
    "            with open(comment_outfname, 'w+') as f:\n",
    "                json.dump(comments_hit, f, indent=4)"
   ]
  },
  {
   "cell_type": "code",
   "execution_count": 8,
   "metadata": {},
   "outputs": [],
   "source": [
    "with open(manifestpath, 'a+') as f:\n",
    "    f.write('{query}, {utciso}\\n'.format(\n",
    "        query=entity_name,\n",
    "        utciso=utciso, \n",
    "    ))"
   ]
  },
  {
   "cell_type": "code",
   "execution_count": 9,
   "metadata": {},
   "outputs": [
    {
     "name": "stdout",
     "output_type": "stream",
     "text": [
      "\n",
      "WARNING: gsutil rsync uses hashes when modification time is not available at\n",
      "both the source and destination. Your crcmod installation isn't using the\n",
      "module's C extension, so checksumming will run very slowly. If this is your\n",
      "first rsync since updating gsutil, this rsync can take significantly longer than\n",
      "usual. For help installing the extension, please see \"gsutil help crcmod\".\n",
      "\n",
      "Building synchronization state...\n",
      "Starting synchronization...\n",
      "Copying file://data/search/comment/.DS_Store [Content-Type=application/octet-stream]...\n",
      "Copying file://data/search/comment/q=uber/fwdynn5.json [Content-Type=application/json]...\n",
      "Copying file://data/search/comment/q=uber/fwdys0h.json [Content-Type=application/json]...\n",
      "Copying file://data/search/comment/q=uber/fwdyxwo.json [Content-Type=application/json]...\n",
      "Copying file://data/search/comment/q=uber/fwdyy45.json [Content-Type=application/json]...\n",
      "Copying file://data/search/comment/q=uber/fwdz0j1.json [Content-Type=application/json]...\n",
      "Copying file://data/search/comment/q=uber/fwdz435.json [Content-Type=application/json]...\n",
      "Copying file://data/search/comment/q=uber/fwdze7h.json [Content-Type=application/json]...\n",
      "Copying file://data/search/comment/q=uber/fwdzj4x.json [Content-Type=application/json]...\n",
      "Copying file://data/search/comment/q=uber/fwdznks.json [Content-Type=application/json]...\n",
      "Copying file://data/search/comment/q=uber/fwdzk01.json [Content-Type=application/json]...\n",
      "Copying file://data/search/comment/q=uber/fwdzo6y.json [Content-Type=application/json]...\n",
      "Copying file://data/search/comment/q=uber/fwdzwrc.json [Content-Type=application/json]...\n",
      "Copying file://data/search/comment/q=uber/fwe0mau.json [Content-Type=application/json]...\n",
      "Copying file://data/search/comment/q=uber/fwe0uur.json [Content-Type=application/json]...\n",
      "Copying file://data/search/comment/q=uber/fwe11cq.json [Content-Type=application/json]...\n",
      "Copying file://data/search/comment/q=uber/fwe14rg.json [Content-Type=application/json]...\n",
      "Copying file://data/search/comment/q=uber/fwe176a.json [Content-Type=application/json]...\n",
      "Copying file://data/search/comment/q=uber/fwe1jga.json [Content-Type=application/json]...\n",
      "Copying file://data/search/comment/q=uber/fwe1md3.json [Content-Type=application/json]...\n",
      "Copying file://data/search/comment/q=uber/fwe05lq.json [Content-Type=application/json]...\n",
      "Copying file://data/search/comment/q=uber/fwe1xbb.json [Content-Type=application/json]...\n",
      "Copying file://data/search/comment/q=uber/fwe2f9n.json [Content-Type=application/json]...\n",
      "Copying file://data/search/comment/q=uber/fwe2se1.json [Content-Type=application/json]...\n",
      "Copying file://data/search/comment/q=uber/fwe2z0y.json [Content-Type=application/json]...\n",
      "Copying file://data/search/comment/q=uber/fwe2mvl.json [Content-Type=application/json]...\n",
      "Copying file://data/search/comment/q=uber/fwe2wfh.json [Content-Type=application/json]...\n",
      "Copying file://data/search/comment/q=uber/fwe2zdr.json [Content-Type=application/json]...\n",
      "Copying file://data/search/comment/q=uber/fwe3cxx.json [Content-Type=application/json]...\n",
      "Copying file://data/search/comment/q=uber/fwe40of.json [Content-Type=application/json]...\n",
      "Copying file://data/search/comment/q=uber/fwe40rp.json [Content-Type=application/json]...\n",
      "Copying file://data/search/comment/q=uber/fwe48px.json [Content-Type=application/json]...\n",
      "Copying file://data/search/comment/q=uber/fwe53w7.json [Content-Type=application/json]...\n",
      "Copying file://data/search/comment/q=uber/fwe4php.json [Content-Type=application/json]...\n",
      "Copying file://data/search/comment/q=uber/fwe3pyq.json [Content-Type=application/json]...\n",
      "Copying file://data/search/comment/q=uber/fwe4vsb.json [Content-Type=application/json]...\n",
      "Copying file://data/search/comment/q=uber/fwe50ei.json [Content-Type=application/json]...\n",
      "Copying file://data/search/comment/q=uber/fwe53ys.json [Content-Type=application/json]...\n",
      "Copying file://data/search/comment/q=uber/fwe57d4.json [Content-Type=application/json]...\n",
      "Copying file://data/search/comment/q=uber/fwe5so1.json [Content-Type=application/json]...\n",
      "Copying file://data/search/comment/q=uber/fwe5y1g.json [Content-Type=application/json]...\n",
      "Copying file://data/search/comment/q=uber/fwe5u2w.json [Content-Type=application/json]...\n",
      "Copying file://data/search/comment/q=uber/fwe5ytn.json [Content-Type=application/json]...\n",
      "Copying file://data/search/comment/q=uber/fwe64sr.json [Content-Type=application/json]...\n",
      "Copying file://data/search/comment/q=uber/fwe65ga.json [Content-Type=application/json]...\n",
      "Copying file://data/search/comment/q=uber/fwe68c7.json [Content-Type=application/json]...\n",
      "Copying file://data/search/comment/q=uber/fwe6aan.json [Content-Type=application/json]...\n",
      "Copying file://data/search/comment/q=uber/fwe6b1h.json [Content-Type=application/json]...\n",
      "Copying file://data/search/comment/q=uber/fwe5z05.json [Content-Type=application/json]...\n",
      "Copying file://data/search/comment/q=uber/fwe6bmt.json [Content-Type=application/json]...\n",
      "Copying file://data/search/comment/q=uber/fwe6j92.json [Content-Type=application/json]...\n",
      "Copying file://data/search/comment/q=uber/fwe6izc.json [Content-Type=application/json]...\n",
      "Copying file://data/search/comment/q=uber/fwe6j9g.json [Content-Type=application/json]...\n",
      "Copying file://data/search/comment/q=uber/fwe6ye5.json [Content-Type=application/json]...\n",
      "Copying file://data/search/comment/q=uber/fwe6wu5.json [Content-Type=application/json]...\n",
      "Copying file://data/search/comment/q=uber/fwe70s4.json [Content-Type=application/json]...\n",
      "Copying file://data/search/comment/q=uber/fwe82z6.json [Content-Type=application/json]...\n",
      "Copying file://data/search/comment/q=uber/fwe7omo.json [Content-Type=application/json]...\n",
      "Copying file://data/search/comment/q=uber/fwe8cmu.json [Content-Type=application/json]...\n",
      "Copying file://data/search/comment/q=uber/fwe7k7z.json [Content-Type=application/json]...\n",
      "Copying file://data/search/comment/q=uber/fwe8gbw.json [Content-Type=application/json]...\n",
      "Copying file://data/search/comment/q=uber/fwe8hkt.json [Content-Type=application/json]...\n",
      "Copying file://data/search/comment/q=uber/fwe8n4c.json [Content-Type=application/json]...\n",
      "Copying file://data/search/comment/q=uber/manifest.csv [Content-Type=text/csv]...\n",
      "- [64/64 files][  6.2 KiB/  6.2 KiB] 100% Done                                  \n",
      "Operation completed over 64 objects/6.2 KiB.                                     \n"
     ]
    }
   ],
   "source": [
    "!gsutil -m rsync -r data/search/comment gs://astroturf-dev/search/comment"
   ]
  }
 ],
 "metadata": {
  "kernelspec": {
   "display_name": "Python 3",
   "language": "python",
   "name": "python3"
  },
  "language_info": {
   "codemirror_mode": {
    "name": "ipython",
    "version": 3
   },
   "file_extension": ".py",
   "mimetype": "text/x-python",
   "name": "python",
   "nbconvert_exporter": "python",
   "pygments_lexer": "ipython3",
   "version": "3.7.5"
  }
 },
 "nbformat": 4,
 "nbformat_minor": 4
}
