{
 "cells": [
  {
   "cell_type": "code",
   "execution_count": 1,
   "metadata": {},
   "outputs": [],
   "source": [
    "import os\n",
    "import json\n",
    "import pandas as pd"
   ]
  },
  {
   "cell_type": "code",
   "execution_count": 2,
   "metadata": {},
   "outputs": [
    {
     "data": {
      "application/vnd.jupyter.widget-view+json": {
       "model_id": "2b0624dde8b047f1a343f6f49318ea99",
       "version_major": 2,
       "version_minor": 0
      },
      "text/plain": [
       "HBox(children=(FloatProgress(value=0.0, description='Downloading', max=230.0, style=ProgressStyle(description_…"
      ]
     },
     "metadata": {},
     "output_type": "display_data"
    },
    {
     "name": "stdout",
     "output_type": "stream",
     "text": [
      "\n"
     ]
    }
   ],
   "source": [
    "from webapitools import get_entity_mentions\n",
    "from nlptools import get_ner_tokens, get_ner, get_sentiment, is_hit\n",
    "from datetime import datetime"
   ]
  },
  {
   "cell_type": "code",
   "execution_count": 3,
   "metadata": {},
   "outputs": [],
   "source": [
    "entity_name = \"uber\"\n",
    "size = 100"
   ]
  },
  {
   "cell_type": "code",
   "execution_count": 4,
   "metadata": {},
   "outputs": [],
   "source": [
    "def clean_string(s):\n",
    "    return ''.join([c if c.isalnum() else '_' for c in s])"
   ]
  },
  {
   "cell_type": "code",
   "execution_count": 5,
   "metadata": {},
   "outputs": [],
   "source": [
    "outpath = 'data/search/comment/q={}'.format(clean_string(entity_name))\n",
    "os.makedirs(outpath, exist_ok=True)\n",
    "\n",
    "manifestpath = os.path.join(outpath, 'manifest.csv')\n",
    "if not os.path.isfile(manifestpath):\n",
    "    with open(manifestpath, 'w+') as f:\n",
    "        f.write('query, created_utcnow_isoformat\\n')\n",
    "    manifestdf = None\n",
    "else:\n",
    "    manifestdf = pd.read_csv(manifestpath)"
   ]
  },
  {
   "cell_type": "code",
   "execution_count": 6,
   "metadata": {},
   "outputs": [
    {
     "name": "stderr",
     "output_type": "stream",
     "text": [
      "/Users/tianlechen/GitHub/astroturf/.venv/lib/python3.7/site-packages/transformers/tokenization_utils.py:831: FutureWarning: Parameter max_len is deprecated and will be removed in a future release. Use model_max_length instead.\n",
      "  category=FutureWarning,\n"
     ]
    }
   ],
   "source": [
    "comments = get_entity_mentions(entity_name, size=size)\n",
    "utciso = datetime.utcnow().isoformat()\n",
    "entity_name_tokenized = get_ner_tokens(entity_name)"
   ]
  },
  {
   "cell_type": "code",
   "execution_count": 7,
   "metadata": {},
   "outputs": [],
   "source": [
    "comments_hit = []\n",
    "for comment in comments:\n",
    "    ner = get_ner(comment['body'])\n",
    "    comment_id = comment['id']\n",
    "    if is_hit(ner, entity_name_tokenized):\n",
    "        comment.update({'sentiment': get_sentiment(comment['body'])})\n",
    "        comment_outfname = os.path.join(outpath, '{}.json'.format(comment_id))\n",
    "        if not os.path.isfile(comment_outfname):\n",
    "            with open(comment_outfname, 'w+') as f:\n",
    "                json.dump(comments_hit, f, indent=4)"
   ]
  },
  {
   "cell_type": "code",
   "execution_count": 8,
   "metadata": {},
   "outputs": [],
   "source": [
    "with open(manifestpath, 'a+') as f:\n",
    "    f.write('{query}, {utciso}\\n'.format(\n",
    "        query=entity_name,\n",
    "        utciso=utciso, \n",
    "    ))"
   ]
  },
  {
   "cell_type": "code",
   "execution_count": null,
   "metadata": {},
   "outputs": [
    {
     "name": "stdout",
     "output_type": "stream",
     "text": [
      "\r\n",
      "WARNING: gsutil rsync uses hashes when modification time is not available at\r\n",
      "both the source and destination. Your crcmod installation isn't using the\r\n",
      "module's C extension, so checksumming will run very slowly. If this is your\r\n",
      "first rsync since updating gsutil, this rsync can take significantly longer than\r\n",
      "usual. For help installing the extension, please see \"gsutil help crcmod\".\r\n",
      "\r\n"
     ]
    }
   ],
   "source": [
    "!gsutil -m rsync -r data/search/comment gs://astroturf-dev/search/comment"
   ]
  }
 ],
 "metadata": {
  "kernelspec": {
   "display_name": "Python 3",
   "language": "python",
   "name": "python3"
  },
  "language_info": {
   "codemirror_mode": {
    "name": "ipython",
    "version": 3
   },
   "file_extension": ".py",
   "mimetype": "text/x-python",
   "name": "python",
   "nbconvert_exporter": "python",
   "pygments_lexer": "ipython3",
   "version": "3.7.5"
  }
 },
 "nbformat": 4,
 "nbformat_minor": 4
}
