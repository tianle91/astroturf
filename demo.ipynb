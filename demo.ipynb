{
 "cells": [
  {
   "cell_type": "markdown",
   "metadata": {},
   "source": [
    "Demo\n",
    "1. get comments by string matching (i.e. search term hits)\n",
    "2. filter comments to find entity matching\n",
    "3. print sentiments"
   ]
  },
  {
   "cell_type": "markdown",
   "metadata": {},
   "source": [
    "# pushshift gets reddit comments"
   ]
  },
  {
   "cell_type": "code",
   "execution_count": 1,
   "metadata": {},
   "outputs": [],
   "source": [
    "from webapitools import get_entity_mentions"
   ]
  },
  {
   "cell_type": "code",
   "execution_count": 2,
   "metadata": {},
   "outputs": [],
   "source": [
    "entity_name = \"uber\""
   ]
  },
  {
   "cell_type": "code",
   "execution_count": 3,
   "metadata": {},
   "outputs": [],
   "source": [
    "comments = get_entity_mentions(entity_name)"
   ]
  },
  {
   "cell_type": "markdown",
   "metadata": {},
   "source": [
    "# huggingface provides ner, sentiment"
   ]
  },
  {
   "cell_type": "code",
   "execution_count": 4,
   "metadata": {},
   "outputs": [
    {
     "data": {
      "application/vnd.jupyter.widget-view+json": {
       "model_id": "b11de1bccf294119b894f51996639ca5",
       "version_major": 2,
       "version_minor": 0
      },
      "text/plain": [
       "HBox(children=(FloatProgress(value=0.0, description='Downloading', max=230.0, style=ProgressStyle(description_…"
      ]
     },
     "metadata": {},
     "output_type": "display_data"
    },
    {
     "name": "stdout",
     "output_type": "stream",
     "text": [
      "\n"
     ]
    },
    {
     "data": {
      "application/vnd.jupyter.widget-view+json": {
       "model_id": "8e9e4a23445c4c2baf8e4997e02714b6",
       "version_major": 2,
       "version_minor": 0
      },
      "text/plain": [
       "HBox(children=(FloatProgress(value=0.0, description='Downloading', max=230.0, style=ProgressStyle(description_…"
      ]
     },
     "metadata": {},
     "output_type": "display_data"
    },
    {
     "name": "stdout",
     "output_type": "stream",
     "text": [
      "\n"
     ]
    }
   ],
   "source": [
    "from nlptools import get_ner_tokens, get_ner, get_sentiment, is_hit"
   ]
  },
  {
   "cell_type": "code",
   "execution_count": 5,
   "metadata": {},
   "outputs": [
    {
     "name": "stderr",
     "output_type": "stream",
     "text": [
      "/Users/tianlechen/GitHub/astroturf/.venv/lib/python3.7/site-packages/transformers/tokenization_utils.py:831: FutureWarning: Parameter max_len is deprecated and will be removed in a future release. Use model_max_length instead.\n",
      "  category=FutureWarning,\n"
     ]
    }
   ],
   "source": [
    "entity_name_tokenized = get_ner_tokens(entity_name)"
   ]
  },
  {
   "cell_type": "code",
   "execution_count": 6,
   "metadata": {},
   "outputs": [
    {
     "data": {
      "text/plain": [
       "['u', '##ber']"
      ]
     },
     "execution_count": 6,
     "metadata": {},
     "output_type": "execute_result"
    }
   ],
   "source": [
    "entity_name_tokenized"
   ]
  },
  {
   "cell_type": "markdown",
   "metadata": {},
   "source": [
    "# run"
   ]
  },
  {
   "cell_type": "code",
   "execution_count": 7,
   "metadata": {
    "scrolled": false
   },
   "outputs": [
    {
     "name": "stdout",
     "output_type": "stream",
     "text": [
      "\n",
      "----------------------------------------------------------------------------------------------------\n",
      "comment:\n",
      "I did Lyft and Uber for a couple of years and ultimately it was too inconsistent and the competition became too great for it to be worth my time and the expenses of putting miles on my car and burning through gas. But otherwise I did really enjoy doing it. I love to drive and I love talking to new people but the money just isn’t there.\n",
      "ner:\n",
      "[{'word': 'L', 'score': 0.9991311430931091, 'entity': 'I-ORG', 'index': 3}, {'word': '##y', 'score': 0.94081050157547, 'entity': 'I-ORG', 'index': 4}, {'word': '##ft', 'score': 0.9975448250770569, 'entity': 'I-ORG', 'index': 5}, {'word': 'U', 'score': 0.9922429919242859, 'entity': 'I-ORG', 'index': 7}, {'word': '##ber', 'score': 0.997425377368927, 'entity': 'I-ORG', 'index': 8}]\n",
      "sentiment:\n",
      "[{'label': 'NEGATIVE', 'score': 0.9706138968467712}]\n",
      "----------------------------------------------------------------------------------------------------\n",
      "\n",
      "----------------------------------------------------------------------------------------------------\n",
      "comment:\n",
      "As I recall Manny had the incident making fun of his Uber driver’s accent on Snapchat (and I feel like there was something else I’m forgetting) but the driving sentiment behind his “cancelling” was the idea that he was a “social climber” which is very funny claim to make against any particular youtuber given that’s pretty much part and parcel with gaining a lot of social media fame lol\n",
      "ner:\n",
      "[{'word': 'Manny', 'score': 0.9977518320083618, 'entity': 'I-PER', 'index': 4}, {'word': 'U', 'score': 0.9937381148338318, 'entity': 'I-ORG', 'index': 12}, {'word': '##ber', 'score': 0.9949577450752258, 'entity': 'I-ORG', 'index': 13}, {'word': 'S', 'score': 0.9730684161186218, 'entity': 'I-MISC', 'index': 19}, {'word': '##nap', 'score': 0.8206669688224792, 'entity': 'I-MISC', 'index': 20}, {'word': '##cha', 'score': 0.7569169402122498, 'entity': 'I-MISC', 'index': 21}, {'word': '##t', 'score': 0.8579396605491638, 'entity': 'I-MISC', 'index': 22}]\n",
      "sentiment:\n",
      "[{'label': 'NEGATIVE', 'score': 0.8398644924163818}]\n",
      "----------------------------------------------------------------------------------------------------\n",
      "\n",
      "----------------------------------------------------------------------------------------------------\n",
      "comment:\n",
      "Often car insurance doesn't cover services like Uber because they believe it's considered commercial activity. Call your insurance agent and make sure you'll be covered in the event of an accident.\n",
      "ner:\n",
      "[{'word': 'U', 'score': 0.9823681712150574, 'entity': 'I-ORG', 'index': 10}, {'word': '##ber', 'score': 0.993742823600769, 'entity': 'I-ORG', 'index': 11}]\n",
      "sentiment:\n",
      "[{'label': 'NEGATIVE', 'score': 0.9868698716163635}]\n",
      "----------------------------------------------------------------------------------------------------\n",
      "\n",
      "----------------------------------------------------------------------------------------------------\n",
      "comment:\n",
      "I thought Qs tweet said he recognized some of the tracks, he didn’t say Smile and Uber specifically\n",
      "ner:\n",
      "[{'word': 'Smile', 'score': 0.7385759353637695, 'entity': 'I-ORG', 'index': 20}, {'word': 'U', 'score': 0.9924335479736328, 'entity': 'I-ORG', 'index': 22}, {'word': '##ber', 'score': 0.993554413318634, 'entity': 'I-ORG', 'index': 23}]\n",
      "sentiment:\n",
      "[{'label': 'NEGATIVE', 'score': 0.9992209076881409}]\n",
      "----------------------------------------------------------------------------------------------------\n",
      "\n",
      "----------------------------------------------------------------------------------------------------\n",
      "comment:\n",
      "Mine posted as one credit today as well. Suddenly realized I've already used up all $250 on Uber Eats lol well the quarantine era...\n",
      "ner:\n",
      "[{'word': 'U', 'score': 0.9761852622032166, 'entity': 'I-ORG', 'index': 22}, {'word': '##ber', 'score': 0.9688917398452759, 'entity': 'I-ORG', 'index': 23}, {'word': 'Eat', 'score': 0.4832586944103241, 'entity': 'I-ORG', 'index': 24}, {'word': '##s', 'score': 0.5113444924354553, 'entity': 'I-ORG', 'index': 25}]\n",
      "sentiment:\n",
      "[{'label': 'NEGATIVE', 'score': 0.9973659515380859}]\n",
      "----------------------------------------------------------------------------------------------------\n",
      "\n",
      "----------------------------------------------------------------------------------------------------\n",
      "comment:\n",
      "Can confirm. Have severe depression, have eaten Uber stale nuggs. They do feel like rocks.\n",
      "ner:\n",
      "[{'word': 'U', 'score': 0.5093952417373657, 'entity': 'I-MISC', 'index': 10}, {'word': '##ber', 'score': 0.48861998319625854, 'entity': 'I-MISC', 'index': 11}]\n",
      "sentiment:\n",
      "[{'label': 'NEGATIVE', 'score': 0.9920895099639893}]\n",
      "----------------------------------------------------------------------------------------------------\n",
      "\n",
      "----------------------------------------------------------------------------------------------------\n",
      "comment:\n",
      "I would say Highland Park too. Depending on where in HP you live you can still be less than a mile away from downtown New Brunswick/train station so you don’t necessarily need to Uber all the time.\n",
      "ner:\n",
      "[{'word': 'Highland', 'score': 0.9915612936019897, 'entity': 'I-LOC', 'index': 4}, {'word': 'Park', 'score': 0.9964163899421692, 'entity': 'I-LOC', 'index': 5}, {'word': 'HP', 'score': 0.43462392687797546, 'entity': 'I-MISC', 'index': 12}, {'word': 'New', 'score': 0.9987987875938416, 'entity': 'I-LOC', 'index': 26}, {'word': 'Brunswick', 'score': 0.9913609623908997, 'entity': 'I-LOC', 'index': 27}, {'word': 'U', 'score': 0.6897464394569397, 'entity': 'I-MISC', 'index': 39}, {'word': '##ber', 'score': 0.47471946477890015, 'entity': 'I-MISC', 'index': 40}]\n",
      "sentiment:\n",
      "[{'label': 'NEGATIVE', 'score': 0.9040160775184631}]\n",
      "----------------------------------------------------------------------------------------------------\n",
      "\n",
      "----------------------------------------------------------------------------------------------------\n",
      "comment:\n",
      "I had an old black female Uber drive ask me and my Chinese girlfriend if we were together \"because of race\" which she \"didn't understand\" because she \"thinks white men are so handsome\"\n",
      "ner:\n",
      "[{'word': 'U', 'score': 0.986397385597229, 'entity': 'I-ORG', 'index': 7}, {'word': '##ber', 'score': 0.9908980131149292, 'entity': 'I-ORG', 'index': 8}, {'word': 'Chinese', 'score': 0.998052179813385, 'entity': 'I-MISC', 'index': 14}]\n",
      "sentiment:\n",
      "[{'label': 'NEGATIVE', 'score': 0.9989169836044312}]\n",
      "----------------------------------------------------------------------------------------------------\n",
      "\n",
      "----------------------------------------------------------------------------------------------------\n",
      "comment:\n",
      "&gt; sandwich shops near offices etc\n",
      "\n",
      "Sandwich shops near homes would have lower overheads (rent out of the city is cheaper).\n",
      "\n",
      "And if we developed something akin to the Indian [dabbawala](https://en.wikipedia.org/wiki/Dabbawala) system I'd love it. But I suppose that's what JustEat / Uber Eats is.\n",
      "ner:\n",
      "[{'word': 'Indian', 'score': 0.998880922794342, 'entity': 'I-MISC', 'index': 38}, {'word': '##bba', 'score': 0.5008185505867004, 'entity': 'I-MISC', 'index': 41}, {'word': 'Da', 'score': 0.9652355909347534, 'entity': 'I-MISC', 'index': 61}, {'word': '##bba', 'score': 0.8272355198860168, 'entity': 'I-MISC', 'index': 62}, {'word': '##wala', 'score': 0.7346957921981812, 'entity': 'I-MISC', 'index': 63}, {'word': 'Just', 'score': 0.506637454032898, 'entity': 'I-ORG', 'index': 79}, {'word': '##E', 'score': 0.9394285082817078, 'entity': 'I-ORG', 'index': 80}, {'word': '##at', 'score': 0.48179981112480164, 'entity': 'I-ORG', 'index': 81}, {'word': 'U', 'score': 0.9924787282943726, 'entity': 'I-ORG', 'index': 83}, {'word': '##ber', 'score': 0.9879727363586426, 'entity': 'I-ORG', 'index': 84}, {'word': 'Eat', 'score': 0.4236542284488678, 'entity': 'I-ORG', 'index': 85}, {'word': '##s', 'score': 0.589647650718689, 'entity': 'I-ORG', 'index': 86}]\n",
      "sentiment:\n",
      "[{'label': 'NEGATIVE', 'score': 0.9949435591697693}]\n",
      "----------------------------------------------------------------------------------------------------\n",
      "\n",
      "----------------------------------------------------------------------------------------------------\n",
      "comment:\n",
      "Sirius is indeed a bad fight, but do you like the conquerors? I am extremely concerned with PoE 2 boss fight design after seeing these encounters. And this after Chris bragged on stage that the team was really good at boss fights. Elder, Shaper, and Guardians are still better imo.\n",
      "\n",
      "The Uber Elder concept is perfect and should be what Sirius is based on. Requires skill to dodge everything, the \"DPS check\" is how fast can you kill and phase stuff (the longer you stay, the more likely to get hit you get), and constant ACTION in a ARPG game.\n",
      "ner:\n",
      "[{'word': 'Sirius', 'score': 0.7180262207984924, 'entity': 'I-MISC', 'index': 1}, {'word': 'Po', 'score': 0.9134647846221924, 'entity': 'I-MISC', 'index': 21}, {'word': '##E', 'score': 0.8224079608917236, 'entity': 'I-MISC', 'index': 22}, {'word': '2', 'score': 0.7958632111549377, 'entity': 'I-MISC', 'index': 23}, {'word': 'Chris', 'score': 0.998542845249176, 'entity': 'I-PER', 'index': 35}, {'word': 'Elder', 'score': 0.5860849022865295, 'entity': 'I-PER', 'index': 50}, {'word': 'S', 'score': 0.6883355975151062, 'entity': 'I-ORG', 'index': 52}, {'word': '##ha', 'score': 0.6946839094161987, 'entity': 'I-ORG', 'index': 53}, {'word': '##per', 'score': 0.7628912925720215, 'entity': 'I-ORG', 'index': 54}, {'word': 'Guardians', 'score': 0.8636749386787415, 'entity': 'I-ORG', 'index': 57}, {'word': 'U', 'score': 0.9340753555297852, 'entity': 'I-MISC', 'index': 65}, {'word': '##ber', 'score': 0.8351918458938599, 'entity': 'I-MISC', 'index': 66}, {'word': 'Elder', 'score': 0.8231452107429504, 'entity': 'I-MISC', 'index': 67}, {'word': 'Sirius', 'score': 0.6397735476493835, 'entity': 'I-MISC', 'index': 75}, {'word': 'D', 'score': 0.7013834118843079, 'entity': 'I-MISC', 'index': 91}, {'word': 'AR', 'score': 0.9736676812171936, 'entity': 'I-MISC', 'index': 126}, {'word': '##P', 'score': 0.7055464386940002, 'entity': 'I-MISC', 'index': 127}, {'word': '##G', 'score': 0.6546553373336792, 'entity': 'I-MISC', 'index': 128}]\n",
      "sentiment:\n",
      "[{'label': 'POSITIVE', 'score': 0.9965350031852722}]\n",
      "----------------------------------------------------------------------------------------------------\n"
     ]
    },
    {
     "name": "stdout",
     "output_type": "stream",
     "text": [
      "\n",
      "----------------------------------------------------------------------------------------------------\n",
      "comment:\n",
      "Hence why you report for exploiting.\n",
      "\n",
      "I was talking about before the terrain exploit where OP was implying that 20 individuals couldn't handle 1 Uber nerd\n",
      "ner:\n",
      "[{'word': 'O', 'score': 0.9716769456863403, 'entity': 'I-ORG', 'index': 18}, {'word': '##P', 'score': 0.8600711226463318, 'entity': 'I-ORG', 'index': 19}, {'word': 'U', 'score': 0.5710502862930298, 'entity': 'I-MISC', 'index': 30}, {'word': '##ber', 'score': 0.5024496912956238, 'entity': 'I-ORG', 'index': 31}]\n",
      "sentiment:\n",
      "[{'label': 'NEGATIVE', 'score': 0.9955389499664307}]\n",
      "----------------------------------------------------------------------------------------------------\n",
      "\n",
      "----------------------------------------------------------------------------------------------------\n",
      "comment:\n",
      "Central California. 2 hours from LA. \n",
      "\n",
      "I don't have enough data for other non-races to be able to have a conclusion. Asians and African americans in my city don't really use Uber. I think i have only delivered to 2 or 3 black people out of 1300 trips, and they have all tipped me. Not enough data.\n",
      "ner:\n",
      "[{'word': 'Central', 'score': 0.9968299269676208, 'entity': 'I-LOC', 'index': 1}, {'word': 'California', 'score': 0.999070405960083, 'entity': 'I-LOC', 'index': 2}, {'word': 'LA', 'score': 0.999397337436676, 'entity': 'I-LOC', 'index': 7}, {'word': 'Asian', 'score': 0.9769200086593628, 'entity': 'I-MISC', 'index': 29}, {'word': 'African', 'score': 0.9975252151489258, 'entity': 'I-MISC', 'index': 32}, {'word': 'U', 'score': 0.5391968488693237, 'entity': 'I-MISC', 'index': 44}, {'word': '##ber', 'score': 0.9716589450836182, 'entity': 'I-ORG', 'index': 45}]\n",
      "sentiment:\n",
      "[{'label': 'NEGATIVE', 'score': 0.9994400143623352}]\n",
      "----------------------------------------------------------------------------------------------------\n"
     ]
    }
   ],
   "source": [
    "linesep = '-'*100\n",
    "for comment in comments:\n",
    "    body = comment['body']\n",
    "    ner = get_ner(body)\n",
    "    sentiment = get_sentiment(body)\n",
    "    if is_hit(ner, entity_name_tokenized):\n",
    "        print (\n",
    "            '\\n'+linesep+\\\n",
    "            '\\ncomment:\\n{}'.format(body)+\\\n",
    "            '\\nner:\\n{}'.format(ner)+\\\n",
    "            '\\nsentiment:\\n{}'.format(sentiment)+\\\n",
    "            '\\n'+linesep\n",
    "        )"
   ]
  }
 ],
 "metadata": {
  "kernelspec": {
   "display_name": "Python 3",
   "language": "python",
   "name": "python3"
  },
  "language_info": {
   "codemirror_mode": {
    "name": "ipython",
    "version": 3
   },
   "file_extension": ".py",
   "mimetype": "text/x-python",
   "name": "python",
   "nbconvert_exporter": "python",
   "pygments_lexer": "ipython3",
   "version": "3.7.5"
  }
 },
 "nbformat": 4,
 "nbformat_minor": 4
}
