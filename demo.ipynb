{
 "cells": [
  {
   "cell_type": "markdown",
   "metadata": {},
   "source": [
    "Demo\n",
    "1. get comments by string matching (i.e. search term hits)\n",
    "2. filter comments to find entity matching\n",
    "3. print sentiments"
   ]
  },
  {
   "cell_type": "markdown",
   "metadata": {},
   "source": [
    "# pushshift gets reddit comments"
   ]
  },
  {
   "cell_type": "code",
   "execution_count": 1,
   "metadata": {},
   "outputs": [],
   "source": [
    "from webapitools import get_entity_mentions"
   ]
  },
  {
   "cell_type": "code",
   "execution_count": 2,
   "metadata": {},
   "outputs": [],
   "source": [
    "entity_name = \"uber\""
   ]
  },
  {
   "cell_type": "code",
   "execution_count": 3,
   "metadata": {},
   "outputs": [],
   "source": [
    "comments = get_entity_mentions(entity_name)"
   ]
  },
  {
   "cell_type": "markdown",
   "metadata": {},
   "source": [
    "# huggingface provides ner, sentiment"
   ]
  },
  {
   "cell_type": "code",
   "execution_count": 4,
   "metadata": {},
   "outputs": [
    {
     "data": {
      "application/vnd.jupyter.widget-view+json": {
       "model_id": "c235d7cba7aa452ab0f8b8e3ff741a1c",
       "version_major": 2,
       "version_minor": 0
      },
      "text/plain": [
       "HBox(children=(FloatProgress(value=0.0, description='Downloading', max=230.0, style=ProgressStyle(description_…"
      ]
     },
     "metadata": {},
     "output_type": "display_data"
    },
    {
     "name": "stdout",
     "output_type": "stream",
     "text": [
      "\n"
     ]
    },
    {
     "data": {
      "application/vnd.jupyter.widget-view+json": {
       "model_id": "74c2ace4d5d24de0a98a56c15c609236",
       "version_major": 2,
       "version_minor": 0
      },
      "text/plain": [
       "HBox(children=(FloatProgress(value=0.0, description='Downloading', max=230.0, style=ProgressStyle(description_…"
      ]
     },
     "metadata": {},
     "output_type": "display_data"
    },
    {
     "name": "stdout",
     "output_type": "stream",
     "text": [
      "\n"
     ]
    }
   ],
   "source": [
    "from nlptools import get_ner_tokens, get_ner, get_sentiment"
   ]
  },
  {
   "cell_type": "code",
   "execution_count": 5,
   "metadata": {},
   "outputs": [
    {
     "name": "stderr",
     "output_type": "stream",
     "text": [
      "/Users/tianlechen/GitHub/astroturf/.venv/lib/python3.7/site-packages/transformers/tokenization_utils.py:831: FutureWarning: Parameter max_len is deprecated and will be removed in a future release. Use model_max_length instead.\n",
      "  category=FutureWarning,\n"
     ]
    }
   ],
   "source": [
    "entity_name_tokenized = get_ner_tokens(entity_name)"
   ]
  },
  {
   "cell_type": "code",
   "execution_count": 6,
   "metadata": {},
   "outputs": [
    {
     "data": {
      "text/plain": [
       "['u', '##ber']"
      ]
     },
     "execution_count": 6,
     "metadata": {},
     "output_type": "execute_result"
    }
   ],
   "source": [
    "entity_name_tokenized"
   ]
  },
  {
   "cell_type": "code",
   "execution_count": 7,
   "metadata": {},
   "outputs": [],
   "source": [
    "def is_hit(ner, entity_name_tokenized):\n",
    "    ner_wordlist = [d['word'].lower() for d in ner]\n",
    "    return all(token in ner_wordlist for token in entity_name_tokenized)"
   ]
  },
  {
   "cell_type": "markdown",
   "metadata": {},
   "source": [
    "# run"
   ]
  },
  {
   "cell_type": "code",
   "execution_count": 8,
   "metadata": {
    "scrolled": false
   },
   "outputs": [
    {
     "name": "stdout",
     "output_type": "stream",
     "text": [
      "\n",
      "----------------------------------------------------------------------------------------------------\n",
      "comment:\n",
      "Mine posted as one credit today as well. Suddenly realized I've already used up all $250 on Uber Eats lol well the quarantine era...\n",
      "ner:\n",
      "[{'word': 'U', 'score': 0.9761852622032166, 'entity': 'I-ORG', 'index': 22}, {'word': '##ber', 'score': 0.9688917398452759, 'entity': 'I-ORG', 'index': 23}, {'word': 'Eat', 'score': 0.4832586944103241, 'entity': 'I-ORG', 'index': 24}, {'word': '##s', 'score': 0.5113444924354553, 'entity': 'I-ORG', 'index': 25}]\n",
      "sentiment:\n",
      "[{'label': 'NEGATIVE', 'score': 0.9973659515380859}]\n",
      "----------------------------------------------------------------------------------------------------\n",
      "\n",
      "----------------------------------------------------------------------------------------------------\n",
      "comment:\n",
      "Can confirm. Have severe depression, have eaten Uber stale nuggs. They do feel like rocks.\n",
      "ner:\n",
      "[{'word': 'U', 'score': 0.5093952417373657, 'entity': 'I-MISC', 'index': 10}, {'word': '##ber', 'score': 0.48861998319625854, 'entity': 'I-MISC', 'index': 11}]\n",
      "sentiment:\n",
      "[{'label': 'NEGATIVE', 'score': 0.9920895099639893}]\n",
      "----------------------------------------------------------------------------------------------------\n",
      "\n",
      "----------------------------------------------------------------------------------------------------\n",
      "comment:\n",
      "I would say Highland Park too. Depending on where in HP you live you can still be less than a mile away from downtown New Brunswick/train station so you don’t necessarily need to Uber all the time.\n",
      "ner:\n",
      "[{'word': 'Highland', 'score': 0.9915612936019897, 'entity': 'I-LOC', 'index': 4}, {'word': 'Park', 'score': 0.9964163899421692, 'entity': 'I-LOC', 'index': 5}, {'word': 'HP', 'score': 0.43462392687797546, 'entity': 'I-MISC', 'index': 12}, {'word': 'New', 'score': 0.9987987875938416, 'entity': 'I-LOC', 'index': 26}, {'word': 'Brunswick', 'score': 0.9913609623908997, 'entity': 'I-LOC', 'index': 27}, {'word': 'U', 'score': 0.6897464394569397, 'entity': 'I-MISC', 'index': 39}, {'word': '##ber', 'score': 0.47471946477890015, 'entity': 'I-MISC', 'index': 40}]\n",
      "sentiment:\n",
      "[{'label': 'NEGATIVE', 'score': 0.9040160775184631}]\n",
      "----------------------------------------------------------------------------------------------------\n",
      "\n",
      "----------------------------------------------------------------------------------------------------\n",
      "comment:\n",
      "I had an old black female Uber drive ask me and my Chinese girlfriend if we were together \"because of race\" which she \"didn't understand\" because she \"thinks white men are so handsome\"\n",
      "ner:\n",
      "[{'word': 'U', 'score': 0.986397385597229, 'entity': 'I-ORG', 'index': 7}, {'word': '##ber', 'score': 0.9908980131149292, 'entity': 'I-ORG', 'index': 8}, {'word': 'Chinese', 'score': 0.998052179813385, 'entity': 'I-MISC', 'index': 14}]\n",
      "sentiment:\n",
      "[{'label': 'NEGATIVE', 'score': 0.9989169836044312}]\n",
      "----------------------------------------------------------------------------------------------------\n",
      "\n",
      "----------------------------------------------------------------------------------------------------\n",
      "comment:\n",
      "&gt; sandwich shops near offices etc\n",
      "\n",
      "Sandwich shops near homes would have lower overheads (rent out of the city is cheaper).\n",
      "\n",
      "And if we developed something akin to the Indian [dabbawala](https://en.wikipedia.org/wiki/Dabbawala) system I'd love it. But I suppose that's what JustEat / Uber Eats is.\n",
      "ner:\n",
      "[{'word': 'Indian', 'score': 0.998880922794342, 'entity': 'I-MISC', 'index': 38}, {'word': '##bba', 'score': 0.5008185505867004, 'entity': 'I-MISC', 'index': 41}, {'word': 'Da', 'score': 0.9652355909347534, 'entity': 'I-MISC', 'index': 61}, {'word': '##bba', 'score': 0.8272355198860168, 'entity': 'I-MISC', 'index': 62}, {'word': '##wala', 'score': 0.7346957921981812, 'entity': 'I-MISC', 'index': 63}, {'word': 'Just', 'score': 0.506637454032898, 'entity': 'I-ORG', 'index': 79}, {'word': '##E', 'score': 0.9394285082817078, 'entity': 'I-ORG', 'index': 80}, {'word': '##at', 'score': 0.48179981112480164, 'entity': 'I-ORG', 'index': 81}, {'word': 'U', 'score': 0.9924787282943726, 'entity': 'I-ORG', 'index': 83}, {'word': '##ber', 'score': 0.9879727363586426, 'entity': 'I-ORG', 'index': 84}, {'word': 'Eat', 'score': 0.4236542284488678, 'entity': 'I-ORG', 'index': 85}, {'word': '##s', 'score': 0.589647650718689, 'entity': 'I-ORG', 'index': 86}]\n",
      "sentiment:\n",
      "[{'label': 'NEGATIVE', 'score': 0.9949435591697693}]\n",
      "----------------------------------------------------------------------------------------------------\n",
      "\n",
      "----------------------------------------------------------------------------------------------------\n",
      "comment:\n",
      "Sirius is indeed a bad fight, but do you like the conquerors? I am extremely concerned with PoE 2 boss fight design after seeing these encounters. And this after Chris bragged on stage that the team was really good at boss fights. Elder, Shaper, and Guardians are still better imo.\n",
      "\n",
      "The Uber Elder concept is perfect and should be what Sirius is based on. Requires skill to dodge everything, the \"DPS check\" is how fast can you kill and phase stuff (the longer you stay, the more likely to get hit you get), and constant ACTION in a ARPG game.\n",
      "ner:\n",
      "[{'word': 'Sirius', 'score': 0.7180262207984924, 'entity': 'I-MISC', 'index': 1}, {'word': 'Po', 'score': 0.9134647846221924, 'entity': 'I-MISC', 'index': 21}, {'word': '##E', 'score': 0.8224079608917236, 'entity': 'I-MISC', 'index': 22}, {'word': '2', 'score': 0.7958632111549377, 'entity': 'I-MISC', 'index': 23}, {'word': 'Chris', 'score': 0.998542845249176, 'entity': 'I-PER', 'index': 35}, {'word': 'Elder', 'score': 0.5860849022865295, 'entity': 'I-PER', 'index': 50}, {'word': 'S', 'score': 0.6883355975151062, 'entity': 'I-ORG', 'index': 52}, {'word': '##ha', 'score': 0.6946839094161987, 'entity': 'I-ORG', 'index': 53}, {'word': '##per', 'score': 0.7628912925720215, 'entity': 'I-ORG', 'index': 54}, {'word': 'Guardians', 'score': 0.8636749386787415, 'entity': 'I-ORG', 'index': 57}, {'word': 'U', 'score': 0.9340753555297852, 'entity': 'I-MISC', 'index': 65}, {'word': '##ber', 'score': 0.8351918458938599, 'entity': 'I-MISC', 'index': 66}, {'word': 'Elder', 'score': 0.8231452107429504, 'entity': 'I-MISC', 'index': 67}, {'word': 'Sirius', 'score': 0.6397735476493835, 'entity': 'I-MISC', 'index': 75}, {'word': 'D', 'score': 0.7013834118843079, 'entity': 'I-MISC', 'index': 91}, {'word': 'AR', 'score': 0.9736676812171936, 'entity': 'I-MISC', 'index': 126}, {'word': '##P', 'score': 0.7055464386940002, 'entity': 'I-MISC', 'index': 127}, {'word': '##G', 'score': 0.6546553373336792, 'entity': 'I-MISC', 'index': 128}]\n",
      "sentiment:\n",
      "[{'label': 'POSITIVE', 'score': 0.9965350031852722}]\n",
      "----------------------------------------------------------------------------------------------------\n",
      "\n",
      "----------------------------------------------------------------------------------------------------\n",
      "comment:\n",
      "Hence why you report for exploiting.\n",
      "\n",
      "I was talking about before the terrain exploit where OP was implying that 20 individuals couldn't handle 1 Uber nerd\n",
      "ner:\n",
      "[{'word': 'O', 'score': 0.9716769456863403, 'entity': 'I-ORG', 'index': 18}, {'word': '##P', 'score': 0.8600711226463318, 'entity': 'I-ORG', 'index': 19}, {'word': 'U', 'score': 0.5710502862930298, 'entity': 'I-MISC', 'index': 30}, {'word': '##ber', 'score': 0.5024496912956238, 'entity': 'I-ORG', 'index': 31}]\n",
      "sentiment:\n",
      "[{'label': 'NEGATIVE', 'score': 0.9955389499664307}]\n",
      "----------------------------------------------------------------------------------------------------\n",
      "\n",
      "----------------------------------------------------------------------------------------------------\n",
      "comment:\n",
      "Central California. 2 hours from LA. \n",
      "\n",
      "I don't have enough data for other non-races to be able to have a conclusion. Asians and African americans in my city don't really use Uber. I think i have only delivered to 2 or 3 black people out of 1300 trips, and they have all tipped me. Not enough data.\n",
      "ner:\n",
      "[{'word': 'Central', 'score': 0.9968299269676208, 'entity': 'I-LOC', 'index': 1}, {'word': 'California', 'score': 0.999070405960083, 'entity': 'I-LOC', 'index': 2}, {'word': 'LA', 'score': 0.999397337436676, 'entity': 'I-LOC', 'index': 7}, {'word': 'Asian', 'score': 0.9769200086593628, 'entity': 'I-MISC', 'index': 29}, {'word': 'African', 'score': 0.9975252151489258, 'entity': 'I-MISC', 'index': 32}, {'word': 'U', 'score': 0.5391968488693237, 'entity': 'I-MISC', 'index': 44}, {'word': '##ber', 'score': 0.9716589450836182, 'entity': 'I-ORG', 'index': 45}]\n",
      "sentiment:\n",
      "[{'label': 'NEGATIVE', 'score': 0.9994400143623352}]\n",
      "----------------------------------------------------------------------------------------------------\n"
     ]
    },
    {
     "name": "stdout",
     "output_type": "stream",
     "text": [
      "\n",
      "----------------------------------------------------------------------------------------------------\n",
      "comment:\n",
      "Allow me to correct this PSA, Smile was ***released to the public*** on Dec 29th, 2015. For artists, it's not unusual to release songs that were made prior to their era (especially within a period of two years). Also, in a quickly deleted tweet replying to a fan, Mac's friend Q verified the tracklist that had both Smile and Uber on it about a month ago. Why it was deleted? Possibly the estate requesting him not to encourage a possible official release - but that's just speculation. Anywho, hope that this clears up your doubts of Smile being on Balloonerism.\n",
      "ner:\n",
      "[{'word': 'Smile', 'score': 0.47795096039772034, 'entity': 'I-MISC', 'index': 10}, {'word': 'Mac', 'score': 0.9881010055541992, 'entity': 'I-PER', 'index': 70}, {'word': 'Q', 'score': 0.9673153758049011, 'entity': 'I-PER', 'index': 74}, {'word': 'Smile', 'score': 0.7766556143760681, 'entity': 'I-ORG', 'index': 82}, {'word': 'U', 'score': 0.996178925037384, 'entity': 'I-ORG', 'index': 84}, {'word': '##ber', 'score': 0.9965904951095581, 'entity': 'I-ORG', 'index': 85}, {'word': 'Smile', 'score': 0.40047797560691833, 'entity': 'I-PER', 'index': 133}, {'word': 'Ball', 'score': 0.4904291331768036, 'entity': 'I-MISC', 'index': 136}, {'word': '##oon', 'score': 0.45606762170791626, 'entity': 'I-ORG', 'index': 137}, {'word': '##eri', 'score': 0.5785255432128906, 'entity': 'I-MISC', 'index': 138}, {'word': '##sm', 'score': 0.522244393825531, 'entity': 'I-MISC', 'index': 139}]\n",
      "sentiment:\n",
      "[{'label': 'NEGATIVE', 'score': 0.9934074282646179}]\n",
      "----------------------------------------------------------------------------------------------------\n",
      "\n",
      "----------------------------------------------------------------------------------------------------\n",
      "comment:\n",
      "It is indeed.\n",
      "\n",
      "A week ago I saw a 70 y/o man get hit by an Uber who ran a red light, which unfolded before my eyes. NYPD didn't even bother to come investigate. I called 911, helped him off the street, and waited for the ambulance to come and take him to the hospital, hope he was okay.\n",
      "ner:\n",
      "[{'word': 'U', 'score': 0.9652449488639832, 'entity': 'I-ORG', 'index': 20}, {'word': '##ber', 'score': 0.9907987713813782, 'entity': 'I-ORG', 'index': 21}, {'word': 'NY', 'score': 0.9986210465431213, 'entity': 'I-ORG', 'index': 34}, {'word': '##PD', 'score': 0.9961327910423279, 'entity': 'I-ORG', 'index': 35}]\n",
      "sentiment:\n",
      "[{'label': 'POSITIVE', 'score': 0.8251850008964539}]\n",
      "----------------------------------------------------------------------------------------------------\n",
      "\n",
      "----------------------------------------------------------------------------------------------------\n",
      "comment:\n",
      "5 times a week * 2 rides = 40 rides a month\n",
      "\n",
      "You spend $5 per Uber ride including tip?\n",
      "ner:\n",
      "[{'word': 'U', 'score': 0.98978590965271, 'entity': 'I-ORG', 'index': 18}, {'word': '##ber', 'score': 0.9945945143699646, 'entity': 'I-ORG', 'index': 19}]\n",
      "sentiment:\n",
      "[{'label': 'NEGATIVE', 'score': 0.9800780415534973}]\n",
      "----------------------------------------------------------------------------------------------------\n",
      "\n",
      "----------------------------------------------------------------------------------------------------\n",
      "comment:\n",
      "My little sister is 27, she's already filed bankruptcy once, and is already planning for the next bankruptcy. She was super excited to find out that she can't be garnished if she only does Uber eats, and similar jobs. I tried to explain stuff to her, but she isn't the brightest crayon in the box.\n",
      "ner:\n",
      "[{'word': 'U', 'score': 0.8134133815765381, 'entity': 'I-MISC', 'index': 45}, {'word': '##ber', 'score': 0.8200941681861877, 'entity': 'I-ORG', 'index': 46}]\n",
      "sentiment:\n",
      "[{'label': 'NEGATIVE', 'score': 0.9958580136299133}]\n",
      "----------------------------------------------------------------------------------------------------\n"
     ]
    }
   ],
   "source": [
    "linesep = '-'*100\n",
    "for comment in comments:\n",
    "    body = comment['body']\n",
    "    ner = get_ner(body)\n",
    "    sentiment = get_sentiment(body)\n",
    "    if is_hit(ner, entity_name_tokenized):\n",
    "        print (\n",
    "            '\\n'+linesep+\\\n",
    "            '\\ncomment:\\n{}'.format(body)+\\\n",
    "            '\\nner:\\n{}'.format(ner)+\\\n",
    "            '\\nsentiment:\\n{}'.format(sentiment)+\\\n",
    "            '\\n'+linesep\n",
    "        )"
   ]
  }
 ],
 "metadata": {
  "kernelspec": {
   "display_name": "Python 3",
   "language": "python",
   "name": "python3"
  },
  "language_info": {
   "codemirror_mode": {
    "name": "ipython",
    "version": 3
   },
   "file_extension": ".py",
   "mimetype": "text/x-python",
   "name": "python",
   "nbconvert_exporter": "python",
   "pygments_lexer": "ipython3",
   "version": "3.7.5"
  }
 },
 "nbformat": 4,
 "nbformat_minor": 4
}
