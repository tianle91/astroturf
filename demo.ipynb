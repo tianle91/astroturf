{
 "cells": [
  {
   "cell_type": "markdown",
   "metadata": {},
   "source": [
    "Demo\n",
    "1. get comments by string matching (i.e. search term hits)\n",
    "2. filter comments to find entity matching\n",
    "3. print sentiments"
   ]
  },
  {
   "cell_type": "markdown",
   "metadata": {},
   "source": [
    "# pushshift gets reddit comments"
   ]
  },
  {
   "cell_type": "code",
   "execution_count": 1,
   "metadata": {},
   "outputs": [],
   "source": [
    "import requests"
   ]
  },
  {
   "cell_type": "code",
   "execution_count": 2,
   "metadata": {},
   "outputs": [],
   "source": [
    "entity_name = \"uber\""
   ]
  },
  {
   "cell_type": "code",
   "execution_count": 3,
   "metadata": {},
   "outputs": [],
   "source": [
    "r = requests.get('https://api.pushshift.io/reddit/search/comment/?q={qterm}'.format(\n",
    "    qterm=entity_name\n",
    "))\n",
    "\n",
    "comments = r.json()['data']"
   ]
  },
  {
   "cell_type": "markdown",
   "metadata": {},
   "source": [
    "# huggingface provides ner, sentiment"
   ]
  },
  {
   "cell_type": "markdown",
   "metadata": {},
   "source": [
    "https://huggingface.co/transformers/usage.html#named-entity-recognition\n",
    "https://github.com/huggingface/transformers/blob/master/src/transformers/pipelines.py#L1604"
   ]
  },
  {
   "cell_type": "code",
   "execution_count": 4,
   "metadata": {},
   "outputs": [
    {
     "data": {
      "application/vnd.jupyter.widget-view+json": {
       "model_id": "0d3649a5d13e4a649d4fe88fc751e32f",
       "version_major": 2,
       "version_minor": 0
      },
      "text/plain": [
       "HBox(children=(FloatProgress(value=0.0, description='Downloading', max=230.0, style=ProgressStyle(description_…"
      ]
     },
     "metadata": {},
     "output_type": "display_data"
    },
    {
     "name": "stdout",
     "output_type": "stream",
     "text": [
      "\n"
     ]
    },
    {
     "data": {
      "application/vnd.jupyter.widget-view+json": {
       "model_id": "07eebb79032b409f8c555c3ed67e2d41",
       "version_major": 2,
       "version_minor": 0
      },
      "text/plain": [
       "HBox(children=(FloatProgress(value=0.0, description='Downloading', max=230.0, style=ProgressStyle(description_…"
      ]
     },
     "metadata": {},
     "output_type": "display_data"
    },
    {
     "name": "stdout",
     "output_type": "stream",
     "text": [
      "\n"
     ]
    }
   ],
   "source": [
    "from transformers import pipeline\n",
    "\n",
    "def wrap_assert(f):\n",
    "    '''sometimes i dont want to deal with exceptions in f'''\n",
    "    def newf(*args,**kwargs):\n",
    "        try:\n",
    "            return f(*args,**kwargs)\n",
    "        except Exception:\n",
    "            return None\n",
    "    return newf\n",
    "\n",
    "get_ner = wrap_assert(pipeline(\"ner\"))\n",
    "get_sentiment = wrap_assert(pipeline(\"sentiment-analysis\"))"
   ]
  },
  {
   "cell_type": "code",
   "execution_count": 5,
   "metadata": {},
   "outputs": [],
   "source": [
    "from transformers.pipelines import SUPPORTED_TASKS\n",
    "from transformers import AutoTokenizer\n",
    "\n",
    "def get_ner_tokens(s):\n",
    "    framework='pt'\n",
    "    targeted_task = SUPPORTED_TASKS['ner']\n",
    "\n",
    "    # https://github.com/huggingface/transformers/blob/master/src/transformers/pipelines.py#L1681\n",
    "    task_class, model_class = targeted_task[\"impl\"], targeted_task[framework]\n",
    "    model = targeted_task[\"default\"][\"model\"][framework]\n",
    "\n",
    "    tokenizer = model\n",
    "    # Instantiate tokenizer if needed\n",
    "    if isinstance(tokenizer, (str, tuple)):\n",
    "        if isinstance(tokenizer, tuple):\n",
    "            # For tuple we have (tokenizer name, {kwargs})\n",
    "            tokenizer = AutoTokenizer.from_pretrained(tokenizer[0], **tokenizer[1])\n",
    "        else:\n",
    "            tokenizer = AutoTokenizer.from_pretrained(tokenizer)\n",
    "    \n",
    "    # encode -> tokens\n",
    "    return [\n",
    "        s for s in tokenizer.convert_ids_to_tokens(tokenizer.encode(s)) \n",
    "        if not s.startswith('[') and not s.endswith(']')\n",
    "    ]"
   ]
  },
  {
   "cell_type": "code",
   "execution_count": 6,
   "metadata": {},
   "outputs": [
    {
     "name": "stderr",
     "output_type": "stream",
     "text": [
      "/Users/tianlechen/GitHub/astroturf/.venv/lib/python3.7/site-packages/transformers/tokenization_utils.py:831: FutureWarning: Parameter max_len is deprecated and will be removed in a future release. Use model_max_length instead.\n",
      "  category=FutureWarning,\n"
     ]
    }
   ],
   "source": [
    "entity_name_tokenized = get_ner_tokens(entity_name)"
   ]
  },
  {
   "cell_type": "code",
   "execution_count": 7,
   "metadata": {},
   "outputs": [
    {
     "data": {
      "text/plain": [
       "['u', '##ber']"
      ]
     },
     "execution_count": 7,
     "metadata": {},
     "output_type": "execute_result"
    }
   ],
   "source": [
    "entity_name_tokenized"
   ]
  },
  {
   "cell_type": "code",
   "execution_count": 8,
   "metadata": {},
   "outputs": [],
   "source": [
    "def is_hit(ner, entity_name_tokenized):\n",
    "    ner_wordlist = [d['word'].lower() for d in ner]\n",
    "    return all(token in ner_wordlist for token in entity_name_tokenized)"
   ]
  },
  {
   "cell_type": "markdown",
   "metadata": {},
   "source": [
    "# run"
   ]
  },
  {
   "cell_type": "code",
   "execution_count": 9,
   "metadata": {
    "scrolled": false
   },
   "outputs": [
    {
     "name": "stdout",
     "output_type": "stream",
     "text": [
      "\n",
      "----------------------------------------------------------------------------------------------------\n",
      "comment:\n",
      "&gt; don’t use Uber eats\n",
      "\n",
      "Uber's taxi business has took a hit\n",
      "ner:\n",
      "[{'word': 'U', 'score': 0.9954677820205688, 'entity': 'I-ORG', 'index': 9}, {'word': '##ber', 'score': 0.997706413269043, 'entity': 'I-ORG', 'index': 10}, {'word': 'U', 'score': 0.9927937984466553, 'entity': 'I-ORG', 'index': 12}, {'word': '##ber', 'score': 0.9976713061332703, 'entity': 'I-ORG', 'index': 13}]\n",
      "sentiment:\n",
      "[{'label': 'NEGATIVE', 'score': 0.9728900194168091}]\n",
      "----------------------------------------------------------------------------------------------------\n",
      "\n",
      "----------------------------------------------------------------------------------------------------\n",
      "comment:\n",
      "Yeah but still, people sell him as an Uber progressive pink tide type and he's a third rate caudillo with regressive ideas on lterally every topic\n",
      "ner:\n",
      "[{'word': 'U', 'score': 0.8692496418952942, 'entity': 'I-ORG', 'index': 10}, {'word': '##ber', 'score': 0.9042381048202515, 'entity': 'I-ORG', 'index': 11}]\n",
      "sentiment:\n",
      "[{'label': 'NEGATIVE', 'score': 0.9970731735229492}]\n",
      "----------------------------------------------------------------------------------------------------\n",
      "\n",
      "----------------------------------------------------------------------------------------------------\n",
      "comment:\n",
      "Not at all. the companies, stock holders only specifically only care about quarterly values, this is how many companies survive companies like Uber who only real profit is in their stock and doesn't actually create real profit. \n",
      "\n",
      "This why the stock market shouldn't be taken as direct link to the economy. This is why a strong stock market doesn't always reflect the economy, it actually may hinder economical growth and why it's so important who companies CEO is. At the end of the day all CEO cares about is share holder value, directly affects employment and bonuses, they put it over ethics, company employees, nations economy and if bad for many quarters even over future growth of the company. \n",
      "\n",
      "Bottom line is Trump isnt good for the stock market now or near future. These boycotts is evidence of that, they're taking money away from Trump's biggest campaign platform. \n",
      "\n",
      "I hope you learned something besides the political discussion. If you don't own stocks right now, you can invest in index fund at low right now and hopefully wait things out.\n",
      "ner:\n",
      "[{'word': 'U', 'score': 0.999390721321106, 'entity': 'I-ORG', 'index': 26}, {'word': '##ber', 'score': 0.9991433024406433, 'entity': 'I-ORG', 'index': 27}, {'word': 'Trump', 'score': 0.9979554414749146, 'entity': 'I-PER', 'index': 146}, {'word': 'Trump', 'score': 0.9988216161727905, 'entity': 'I-PER', 'index': 174}]\n",
      "sentiment:\n",
      "[{'label': 'NEGATIVE', 'score': 0.9978767037391663}]\n",
      "----------------------------------------------------------------------------------------------------\n",
      "\n",
      "----------------------------------------------------------------------------------------------------\n",
      "comment:\n",
      "Too many to list. Plus, lot of people already mentioned many of mine in these comments.\n",
      "\n",
      "Not cringe-worthy, necessarily, but funny as hell... drunkenly got split up from my group leaving a concert in Minneapolis. Wandered around for a little while looking for our hotel before realizing I had no idea how to get there. Which is only true because I was drunk, I could have easily found it any other time. Summoned an Uber and told them to drive me to the \"tall hotel\" because I was too incoherent to say the name and too drunk to remember what it was called. They drove  180° , literally to the back side of the block I was standing on and dropped me off. Dude didn't change me. \n",
      "\n",
      "Convincing the front desk person that I was actually staying there and having them help me find my room on one of the 30 floors is a whole nother story.\n",
      "ner:\n",
      "[{'word': 'Minneapolis', 'score': 0.9982618689537048, 'entity': 'I-LOC', 'index': 48}, {'word': 'U', 'score': 0.7849087119102478, 'entity': 'I-ORG', 'index': 95}, {'word': '##ber', 'score': 0.9678946733474731, 'entity': 'I-ORG', 'index': 96}]\n",
      "sentiment:\n",
      "[{'label': 'NEGATIVE', 'score': 0.9984405636787415}]\n",
      "----------------------------------------------------------------------------------------------------\n",
      "\n",
      "----------------------------------------------------------------------------------------------------\n",
      "comment:\n",
      "I’ll talk to the police either tomorrow or Monday morning. Uber eats support hotline is a joke, can’t see the Drivers from when this guy came in which was either Wednesday orThursday it only let’s me see the current days order and a bit of yesterday\n",
      "ner:\n",
      "[{'word': 'U', 'score': 0.9942263960838318, 'entity': 'I-ORG', 'index': 14}, {'word': '##ber', 'score': 0.9933359026908875, 'entity': 'I-ORG', 'index': 15}]\n",
      "sentiment:\n",
      "[{'label': 'NEGATIVE', 'score': 0.9986878633499146}]\n",
      "----------------------------------------------------------------------------------------------------\n",
      "\n",
      "----------------------------------------------------------------------------------------------------\n",
      "comment:\n",
      "My bank account would love number 10 in addition to curving my use of Uber Eats and DoorDash.\n",
      "ner:\n",
      "[{'word': 'U', 'score': 0.9445722699165344, 'entity': 'I-ORG', 'index': 15}, {'word': '##ber', 'score': 0.9759573936462402, 'entity': 'I-ORG', 'index': 16}, {'word': 'Eat', 'score': 0.8335585594177246, 'entity': 'I-ORG', 'index': 17}, {'word': '##s', 'score': 0.8157685995101929, 'entity': 'I-ORG', 'index': 18}, {'word': 'Door', 'score': 0.9064019918441772, 'entity': 'I-ORG', 'index': 20}, {'word': '##D', 'score': 0.959503710269928, 'entity': 'I-ORG', 'index': 21}, {'word': '##ash', 'score': 0.9857848286628723, 'entity': 'I-ORG', 'index': 22}]\n",
      "sentiment:\n",
      "[{'label': 'NEGATIVE', 'score': 0.888205349445343}]\n",
      "----------------------------------------------------------------------------------------------------\n",
      "\n",
      "----------------------------------------------------------------------------------------------------\n",
      "comment:\n",
      "Ya remember the Uber boycott\n",
      "ner:\n",
      "[{'word': 'U', 'score': 0.9589657783508301, 'entity': 'I-ORG', 'index': 4}, {'word': '##ber', 'score': 0.9696831703186035, 'entity': 'I-ORG', 'index': 5}]\n",
      "sentiment:\n",
      "[{'label': 'NEGATIVE', 'score': 0.991575300693512}]\n",
      "----------------------------------------------------------------------------------------------------\n",
      "\n",
      "----------------------------------------------------------------------------------------------------\n",
      "comment:\n",
      "The numbers are very easily visible it really does defy common sense! \n",
      "\n",
      "I ordered McDonalds from Uber eats this morning and he was sat at the top of the street for a few minutes so I messaged saying:\n",
      "\n",
      " “number 3 is at the opposite end to the street from where you are, next to number 1 and number 5” \n",
      "\n",
      "He replied: “oh sorry, where should I go” ....\n",
      "ner:\n",
      "[{'word': 'McDonald', 'score': 0.5631510615348816, 'entity': 'I-MISC', 'index': 17}, {'word': '##s', 'score': 0.7329891920089722, 'entity': 'I-MISC', 'index': 18}, {'word': 'U', 'score': 0.993685781955719, 'entity': 'I-ORG', 'index': 20}, {'word': '##ber', 'score': 0.9944970607757568, 'entity': 'I-ORG', 'index': 21}]\n",
      "sentiment:\n",
      "[{'label': 'NEGATIVE', 'score': 0.95706707239151}]\n",
      "----------------------------------------------------------------------------------------------------\n",
      "\n",
      "----------------------------------------------------------------------------------------------------\n",
      "comment:\n",
      "He did not say anything about rich people. He said independent contractors.\n",
      "\n",
      "Independent contractors tend to be either working class or middle class people who work for themselves. This means they get no benefits like vacation time, health insurance, or unemployment. If they’re forced to stop working they lose their income and therefore their health insurance that they have to purchase separately.\n",
      "\n",
      "A lot of people do this kind of work, often in home remodeling, landscaping, Uber drivers, “gig economy” workers, etc.\n",
      "ner:\n",
      "[{'word': 'U', 'score': 0.7465469241142273, 'entity': 'I-MISC', 'index': 94}, {'word': '##ber', 'score': 0.6493666172027588, 'entity': 'I-ORG', 'index': 95}]\n",
      "sentiment:\n",
      "[{'label': 'NEGATIVE', 'score': 0.9988007545471191}]\n",
      "----------------------------------------------------------------------------------------------------\n",
      "\n",
      "----------------------------------------------------------------------------------------------------\n",
      "comment:\n",
      "No car means I won’t ask to borrow one, ask a friend for a ride, or pay for an Uber.\n",
      "ner:\n",
      "[{'word': 'U', 'score': 0.6259067058563232, 'entity': 'I-MISC', 'index': 24}, {'word': '##ber', 'score': 0.885498583316803, 'entity': 'I-ORG', 'index': 25}]\n",
      "sentiment:\n",
      "[{'label': 'NEGATIVE', 'score': 0.9713093638420105}]\n",
      "----------------------------------------------------------------------------------------------------\n"
     ]
    },
    {
     "name": "stdout",
     "output_type": "stream",
     "text": [
      "\n",
      "----------------------------------------------------------------------------------------------------\n",
      "comment:\n",
      "&gt; Unlike say a restaurant where you just always have to tip no matter what\n",
      "\n",
      "In a restaurant, the server is paid so little that tip is almost mandatory. Restaurants should really up their prices and do away with tips. But servers love the tip culture because they make a lot more money/hour than many other jobs that require greater qualifications.\n",
      "\n",
      "Hairdresser, cab driver, installer, movers, etc...why is there an expectation to tip for just doing their normal job? \n",
      "\n",
      "Totally agree on Uber. They still try to keep it that way - tip if you want to, no obligation. But it's a lot more in your face than it used to be.\n",
      "ner:\n",
      "[{'word': 'U', 'score': 0.9835100769996643, 'entity': 'I-ORG', 'index': 107}, {'word': '##ber', 'score': 0.9902449250221252, 'entity': 'I-ORG', 'index': 108}]\n",
      "sentiment:\n",
      "[{'label': 'POSITIVE', 'score': 0.9733946323394775}]\n",
      "----------------------------------------------------------------------------------------------------\n"
     ]
    }
   ],
   "source": [
    "linesep = '-'*100\n",
    "for comment in comments:\n",
    "    body = comment['body']\n",
    "    ner = get_ner(body)\n",
    "    sentiment = get_sentiment(body)\n",
    "    if is_hit(ner, entity_name_tokenized):\n",
    "        print (\n",
    "            '\\n'+linesep+\\\n",
    "            '\\ncomment:\\n{}'.format(body)+\\\n",
    "            '\\nner:\\n{}'.format(ner)+\\\n",
    "            '\\nsentiment:\\n{}'.format(sentiment)+\\\n",
    "            '\\n'+linesep\n",
    "        )"
   ]
  }
 ],
 "metadata": {
  "kernelspec": {
   "display_name": "Python 3",
   "language": "python",
   "name": "python3"
  },
  "language_info": {
   "codemirror_mode": {
    "name": "ipython",
    "version": 3
   },
   "file_extension": ".py",
   "mimetype": "text/x-python",
   "name": "python",
   "nbconvert_exporter": "python",
   "pygments_lexer": "ipython3",
   "version": "3.7.5"
  }
 },
 "nbformat": 4,
 "nbformat_minor": 4
}
